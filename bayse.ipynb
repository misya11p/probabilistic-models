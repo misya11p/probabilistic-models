{
 "cells": [
  {
   "attachments": {},
   "cell_type": "markdown",
   "metadata": {},
   "source": [
    "# ベイズ推定\n",
    "\n",
    "あるデータ$X$が得られた時のパラメータ$\\theta$の事後分布を求める。\n",
    "\n",
    "$$\n",
    "p(\\theta|X)\n",
    "$$\n",
    "\n",
    "MAP推定では事後分布が最大となる$\\theta$を求めていたが、ベイズ推定では事後分布そのものを求める。"
   ]
  },
  {
   "cell_type": "code",
   "execution_count": 1,
   "metadata": {},
   "outputs": [],
   "source": [
    "import torch\n",
    "import pyro.distributions as dist\n",
    "import matplotlib.pyplot as plt"
   ]
  },
  {
   "attachments": {},
   "cell_type": "markdown",
   "metadata": {},
   "source": [
    "\n",
    "---\n",
    "\n",
    "## 解析的に求める\n",
    "\n",
    "解析的に求めていく。"
   ]
  },
  {
   "attachments": {},
   "cell_type": "markdown",
   "metadata": {},
   "source": [
    "MAP推定でも使ったこの例題でやってみる。\n",
    "\n",
    "> 東京都に住む成人男性の平均身長を求めたい。アンケートを実施して、10000の標本を集めることができた。この10000人分のデータを元に、平均身長を求める。具体的には、身長が正規分布に従うと仮定し、その分布の平均値を求める。なお標準偏差は既知で$\\sigma=10$とする。また、日本の成人男性の身長が平均170cm、標準偏差10cmの正規分布に従うことを知っているとする。\n",
    "\n",
    "標本も同じものを使用する。平均174cm、標準偏差10cmの正規分布。"
   ]
  },
  {
   "cell_type": "code",
   "execution_count": 2,
   "metadata": {},
   "outputs": [
    {
     "data": {
      "image/png": "[encoded data removed]",
      "text/plain": [
       "<Figure size 640x480 with 1 Axes>"
      ]
     },
     "metadata": {},
     "output_type": "display_data"
    }
   ],
   "source": [
    "norm = dist.Normal(174, 10)\n",
    "x = norm.sample((10000,))\n",
    "plt.hist(x, bins=50);"
   ]
  },
  {
   "attachments": {},
   "cell_type": "markdown",
   "metadata": {},
   "source": [
    "では求めていく。まずはベイズの定理を使って事後分布を以下のように表す。\n",
    "\n",
    "$$\n",
    "p(\\theta|X) = \\frac{p(X|\\theta)p(\\theta)}{p(X)} \\propto p(X|\\theta)p(\\theta)\n",
    "$$\n",
    "\n",
    "$p(X)$は$\\theta$に依存しない定数なので、分布を推定する上では考えなくていい。"
   ]
  },
  {
   "attachments": {},
   "cell_type": "markdown",
   "metadata": {},
   "source": [
    "$p(X|\\theta)$から求める。$X$は正規分布に従い、その分散が10であることまで分かっている為、以下のようにできる。\n",
    "\n",
    "$$\n",
    "\\begin{align}\n",
    "p(X|\\theta)\n",
    "    &= \\prod_{i=1}^n p(x_i|\\theta) \\\\\n",
    "    &= \\prod_{i=1}^n \\mathcal N(x_i;\\theta, 10) \\\\\n",
    "    &= \\prod_{i=1}^n \\frac{1}{\\sqrt{2\\pi \\cdot 10^2}} \\exp\\left(-\\frac{(x_i-\\theta)^2}{2 \\cdot 10^2}\\right) \\\\\n",
    "    &= \\left( \\frac{1}{\\sqrt{200\\pi }} \\right)^n \\exp \\left( -\\frac{1}{200}\\sum_{i=1}^n (x_i-\\theta)^2 \\right) \\\\\n",
    "\\end{align}"
   ]
  },
  {
   "attachments": {},
   "cell_type": "markdown",
   "metadata": {},
   "source": [
    "ここで指数部分を更に変形する\n",
    "\n",
    "$$\n",
    "\\begin{align}\n",
    "\\sum_{i=1}^n (x_i-\\theta)^2\n",
    "    &= \\sum_{i=1}^n (x_i^2 - 2x_i\\theta + \\theta^2) \\\\\n",
    "    &= \\sum_{i=1}^n x_i^2 - 2\\theta \\sum_{i=1}^n x_i + n\\theta^2 \\\\\n",
    "\\end{align}\n",
    "$$\n",
    "\n",
    "でこれは$X$の平均$\\bar X$と分散$S^2$を使って\n",
    "\n",
    "$$\n",
    "\\begin{align}\n",
    "\\bar X &= \\frac{1}{n}\\sum_{i=1}^n x_i \\\\\n",
    "S^2 &= \\bar {X^2} - {\\bar X}^2 = \\frac{1}{n} \\sum_{i=1}^n x_i^2 - {\\bar X}^2 \\\\\n",
    "\\end{align}\n",
    "$$\n",
    "\n",
    "以下のように進める。\n",
    "\n",
    "$$\n",
    "\\begin{align}\n",
    "\\sum_{i=1}^n x_i^2 - 2\\theta \\sum_{i=1}^n x_i + n\\theta^2\n",
    "    &= n(S^2+{\\bar X^2}) - 2\\theta n\\bar X  + n\\theta^2 \\\\\n",
    "    &= nS^2 + n(\\bar X - \\theta)^2 \\\\\n",
    "\\end{align}\n",
    "$$\n",
    "\n",
    "これを元の式に代入する。\n",
    "\n",
    "$$\n",
    "p(X|\\theta) = \\left( \\frac{1}{\\sqrt{200\\pi }} \\right)^n \\exp \\left( -\\frac{1}{200} (nS^2 + n(\\bar X - \\theta)^2) \\right)\n",
    "$$\n",
    "\n",
    "できた"
   ]
  },
  {
   "attachments": {},
   "cell_type": "markdown",
   "metadata": {},
   "source": [
    "次に事前分布$p(\\theta)$を求める。MAP推定同様、平均170、標準偏差10の正規分布としよう。\n",
    "\n",
    "$$\n",
    "\\begin{align}\n",
    "p(\\theta)\n",
    "    &= \\mathcal N(\\theta; 170, 10) \\\\\n",
    "    &= \\frac{1}{\\sqrt{200\\pi}} \\exp\\left(-\\frac{(\\theta-170)^2}{200}\\right) \\\\\n",
    "\\end{align}\n",
    "$$\n",
    "\n",
    "できた"
   ]
  },
  {
   "attachments": {},
   "cell_type": "markdown",
   "metadata": {},
   "source": [
    "ではこれらをかけていく。\n",
    "\n",
    "$$\n",
    "\\begin{align}\n",
    "p(X|\\theta)p(\\theta)\n",
    "    &= \\left( \\frac{1}{\\sqrt{200\\pi }} \\right)^n \\exp \\left( -\\frac{1}{200} (nS^2 + n(\\bar X - \\theta)^2\\right) \\frac{1}{\\sqrt{200\\pi}} \\exp\\left(-\\frac{(\\theta-170)^2}{200} \\right) \\\\\n",
    "    &\\propto \\exp \\left( -\\frac{1}{200} (nS^2 + n(\\bar X - \\theta)^2 -(\\theta-170)^2) \\right) \\\\\n",
    "    &= \\exp \\left( -\\frac{1}{200} (n(\\bar X - \\theta)^2 -(\\theta-170)^2) \\right) \\exp \\left( -\\frac{1}{200} nS^2 \\right) \\\\\n",
    "    &\\propto \\exp \\left( -\\frac{1}{200} (n(\\bar X - \\theta)^2 -(\\theta-170)^2) \\right)\n",
    "\\end{align}\n",
    "$$\n",
    "\n",
    "例によって$\\theta$に関係のない部分は無視する。\n",
    "\n",
    "ここで、指数の中を$-\\frac{(\\theta-\\mu)^2}{2\\sigma^2}$の形にできれば、$\\mathcal N(\\theta;\\mu,\\sigma^2)$と比例の関係で表せるので、それを目指す。"
   ]
  },
  {
   "attachments": {},
   "cell_type": "markdown",
   "metadata": {},
   "source": [
    "ではどうすればその形になるかというと、$\\theta$について平方完成をすればいい。  \n",
    "やってみよう。\n",
    "\n",
    "$$\n",
    "\\begin{align}\n",
    "n(\\bar X - \\theta)^2 -(\\theta-170)^2 = \n",
    "\\end{align}"
   ]
  },
  {
   "cell_type": "code",
   "execution_count": 12,
   "metadata": {},
   "outputs": [
    {
     "name": "stdout",
     "output_type": "stream",
     "text": [
      "173.96560343965604 0.10000500037503125\n"
     ]
    },
    {
     "data": {
      "image/png": "[encoded data removed]",
      "text/plain": [
       "<Figure size 640x480 with 1 Axes>"
      ]
     },
     "metadata": {},
     "output_type": "display_data"
    }
   ],
   "source": [
    "n = 10000\n",
    "bar_x = 174\n",
    "\n",
    "mu = (bar_x*n - 170) / (n+1)\n",
    "sigma = 10 / (n-1)**0.5\n",
    "print(mu, sigma)\n",
    "\n",
    "posterior = dist.Normal(mu, sigma)\n",
    "\n",
    "t = torch.linspace(170, 180, 1000)\n",
    "y = posterior.log_prob(t).exp()\n",
    "plt.plot(t, y);"
   ]
  },
  {
   "cell_type": "code",
   "execution_count": null,
   "metadata": {},
   "outputs": [],
   "source": []
  },
  {
   "attachments": {},
   "cell_type": "markdown",
   "metadata": {},
   "source": [
    "\n",
    "---\n",
    "\n",
    "## MCMC法\n",
    "\n",
    "マルコフ連鎖モンテカルロ法（*Markov Chain Monte Carlo Method*)\n",
    "\n",
    "求めたい事後分布に従う数列を生成する方法．色々方法がある．\n",
    "\n",
    "- メトロポリス・ヘイスティング法\n",
    "- ハミルトニアン・モンテカルロ法\n",
    "- ギブズサンプリング\n",
    "- スライスサンプリング"
   ]
  },
  {
   "cell_type": "code",
   "execution_count": null,
   "metadata": {},
   "outputs": [],
   "source": []
  },
  {
   "attachments": {},
   "cell_type": "markdown",
   "metadata": {},
   "source": [
    "\n",
    "---\n",
    "\n",
    "## 変分推論\n",
    "\n",
    "変分ベイズとも\n",
    "\n",
    "事後分布$P(\\theta|x$)を別の分布$q(\\theta)$で近似する手法．"
   ]
  },
  {
   "cell_type": "code",
   "execution_count": null,
   "metadata": {},
   "outputs": [],
   "source": []
  }
 ],
 "metadata": {
  "kernelspec": {
   "display_name": ".venv",
   "language": "python",
   "name": "python3"
  },
  "language_info": {
   "codemirror_mode": {
    "name": "ipython",
    "version": 3
   },
   "file_extension": ".py",
   "mimetype": "text/x-python",
   "name": "python",
   "nbconvert_exporter": "python",
   "pygments_lexer": "ipython3",
   "version": "3.11.2"
  },
  "orig_nbformat": 4,
  "vscode": {
   "interpreter": {
    "hash": "1983e22c2b1393af7863a1657dfcd306b5ff04ead0c1800318ffb0a944b6c216"
   }
  }
 },
 "nbformat": 4,
 "nbformat_minor": 2
}
