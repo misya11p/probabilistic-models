{
 "cells": [
  {
   "attachments": {},
   "cell_type": "markdown",
   "metadata": {},
   "source": [
    "# ベイズ推定\n",
    "\n",
    "あるデータ$X$が得られた時のパラメータ$\\theta$の事後分布を求める。\n",
    "\n",
    "$$\n",
    "p(\\theta|X)\n",
    "$$\n",
    "\n",
    "MAP推定では事後分布が最大となる$\\theta$を求めていたが、ベイズ推定では事後分布そのものを求める。"
   ]
  },
  {
   "cell_type": "code",
   "execution_count": 1,
   "metadata": {},
   "outputs": [],
   "source": [
    "import torch\n",
    "import pyro.distributions as dist\n",
    "import matplotlib.pyplot as plt"
   ]
  },
  {
   "attachments": {},
   "cell_type": "markdown",
   "metadata": {},
   "source": [
    "\n",
    "---\n",
    "\n",
    "## 解析的に求める\n",
    "\n",
    "解析的に求めていく。"
   ]
  },
  {
   "attachments": {},
   "cell_type": "markdown",
   "metadata": {},
   "source": [
    "MAP推定でも使ったこの例題でやってみる。\n",
    "\n",
    "> 東京都に住む成人男性の平均身長を求めたい。アンケートを実施して、10000の標本を集めることができた。この10000人分のデータを元に、平均身長を求める。具体的には、身長が正規分布に従うと仮定し、その分布の平均値を求める。なお標準偏差は既知で$\\sigma=10$とする。また、日本の成人男性の身長が平均170cm、標準偏差10cmの正規分布に従うことを知っているとする。\n",
    "\n",
    "標本も同じものを使用する。平均174cm、標準偏差10cmの正規分布。"
   ]
  },
  {
   "cell_type": "code",
   "execution_count": 2,
   "metadata": {},
   "outputs": [
    {
     "data": {
      "image/png": "[encoded data removed]",
      "text/plain": [
       "<Figure size 640x480 with 1 Axes>"
      ]
     },
     "metadata": {},
     "output_type": "display_data"
    }
   ],
   "source": [
    "norm = dist.Normal(174, 10)\n",
    "x = norm.sample((10000,))\n",
    "plt.hist(x, bins=50);"
   ]
  },
  {
   "attachments": {},
   "cell_type": "markdown",
   "metadata": {},
   "source": [
    "では求めていく。といっても、普通に計算するだけなんだけどね。  \n",
    "MAP推定同様、ベイズの定理を使って事後分布を以下のように表す。\n",
    "\n",
    "$$\n",
    "p(\\theta|X) = \\frac{p(X|\\theta)p(\\theta)}{p(X)}\n",
    "$$"
   ]
  },
  {
   "cell_type": "code",
   "execution_count": null,
   "metadata": {},
   "outputs": [],
   "source": []
  },
  {
   "attachments": {},
   "cell_type": "markdown",
   "metadata": {},
   "source": [
    "\n",
    "---\n",
    "\n",
    "## MCMC法\n",
    "\n",
    "マルコフ連鎖モンテカルロ法（*Markov Chain Monte Carlo Method*)\n",
    "\n",
    "求めたい事後分布に従う数列を生成する方法．色々方法がある．\n",
    "\n",
    "- メトロポリス・ヘイスティング法\n",
    "- ハミルトニアン・モンテカルロ法\n",
    "- ギブズサンプリング\n",
    "- スライスサンプリング"
   ]
  },
  {
   "cell_type": "code",
   "execution_count": null,
   "metadata": {},
   "outputs": [],
   "source": []
  },
  {
   "attachments": {},
   "cell_type": "markdown",
   "metadata": {},
   "source": [
    "\n",
    "---\n",
    "\n",
    "## 変分推論\n",
    "\n",
    "変分ベイズとも\n",
    "\n",
    "事後分布$P(\\theta|x$)を別の分布$q(\\theta)$で近似する手法．"
   ]
  },
  {
   "cell_type": "code",
   "execution_count": null,
   "metadata": {},
   "outputs": [],
   "source": []
  }
 ],
 "metadata": {
  "kernelspec": {
   "display_name": ".venv",
   "language": "python",
   "name": "python3"
  },
  "language_info": {
   "codemirror_mode": {
    "name": "ipython",
    "version": 3
   },
   "file_extension": ".py",
   "mimetype": "text/x-python",
   "name": "python",
   "nbconvert_exporter": "python",
   "pygments_lexer": "ipython3",
   "version": "3.11.2"
  },
  "orig_nbformat": 4,
  "vscode": {
   "interpreter": {
    "hash": "1983e22c2b1393af7863a1657dfcd306b5ff04ead0c1800318ffb0a944b6c216"
   }
  }
 },
 "nbformat": 4,
 "nbformat_minor": 2
}
