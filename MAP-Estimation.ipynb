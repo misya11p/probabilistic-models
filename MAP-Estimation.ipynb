{
 "cells": [
  {
   "attachments": {},
   "cell_type": "markdown",
   "metadata": {},
   "source": [
    "# MAP推定\n",
    "\n",
    "最大事後確率（*Maximum a posteriori*）推定。あるデータ$X$が得られた時、事後確率が最も高くなるパラメータ$\\theta$を推定する。\n",
    "\n",
    "$$\n",
    "\\argmax_{\\theta} p(\\theta|X)\n",
    "$$"
   ]
  },
  {
   "attachments": {},
   "cell_type": "markdown",
   "metadata": {},
   "source": [
    "\n",
    "---\n",
    "\n",
    "## ベイズの定理\n",
    "\n",
    "条件付き確率に関する以下の公式。\n",
    "\n",
    "$$\n",
    "p(A|B) = \\frac{p(B|A)p(A)}{p(B)}\n",
    "$$\n",
    "\n",
    "A,Bは何らかの事象。Aが原因でBを結果だとすると、原因Aの元で結果Bが起きる確率$p(B|A)$という求めやすい値から、その逆の確率$P(A|B)$を求められる。"
   ]
  },
  {
   "attachments": {},
   "cell_type": "markdown",
   "metadata": {},
   "source": [
    "データ$X$とパラメータ$\\theta$でもベイズの定理を適用することができる。\n",
    "\n",
    "$$\n",
    "p(\\theta|X) = \\frac{p(X|\\theta)p(\\theta)}{p(X)}\n",
    "$$\n",
    "\n",
    "- $p(\\theta|X)$: 事後確率。データ$X$が得られた時、そのデータがパラメータ$\\theta$（に従う分布）から生成された確率。\n",
    "- $p(X|\\theta)$: 尤度。パラメータ$\\theta$の下でデータ$X$が得られる確率。\n",
    "- $p(\\theta)$: 事前確率。パラメータ$\\theta$が得られる確率。\n",
    "- $p(X)$: 周辺尤度: $p(X)=\\int p(\\theta)p(X|\\theta) d\\theta$。データ$X$が得られる確率。"
   ]
  },
  {
   "cell_type": "code",
   "execution_count": null,
   "metadata": {},
   "outputs": [],
   "source": []
  },
  {
   "cell_type": "code",
   "execution_count": null,
   "metadata": {},
   "outputs": [],
   "source": []
  }
 ],
 "metadata": {
  "language_info": {
   "name": "python"
  },
  "orig_nbformat": 4
 },
 "nbformat": 4,
 "nbformat_minor": 2
}
