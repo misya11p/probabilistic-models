{
 "cells": [
  {
   "attachments": {},
   "cell_type": "markdown",
   "metadata": {},
   "source": [
    "# MAP推定\n",
    "\n",
    "最大事後確率（*Maximum a posteriori*）推定。あるデータ$X$が得られた時、事後確率が最も高くなるパラメータ$\\theta$を推定する。\n",
    "\n",
    "$$\n",
    "\\argmax_{\\theta} p(\\theta|X)\n",
    "$$"
   ]
  },
  {
   "cell_type": "code",
   "execution_count": 1,
   "metadata": {},
   "outputs": [],
   "source": [
    "import torch\n",
    "import pyro\n",
    "import pyro.distributions as dist\n",
    "import numpy as np\n",
    "import matplotlib.pyplot as plt\n",
    "import random"
   ]
  },
  {
   "attachments": {},
   "cell_type": "markdown",
   "metadata": {},
   "source": [
    "\n",
    "---\n",
    "\n",
    "## ベイズの定理\n",
    "\n",
    "条件付き確率に関する以下の公式。\n",
    "\n",
    "$$\n",
    "p(A|B) = \\frac{p(B|A)p(A)}{p(B)}\n",
    "$$\n",
    "\n",
    "A,Bは何らかの事象。Aが原因でBを結果だとすると、原因Aの元で結果Bが起きる確率$p(B|A)$という求めやすい値から、その逆の確率$P(A|B)$を求められる。"
   ]
  },
  {
   "attachments": {},
   "cell_type": "markdown",
   "metadata": {},
   "source": [
    "データ$X$とパラメータ$\\theta$でもベイズの定理を適用することができる。\n",
    "\n",
    "$$\n",
    "p(\\theta|X) = \\frac{p(X|\\theta)p(\\theta)}{p(X)}\n",
    "$$\n",
    "\n",
    "- $p(\\theta|X)$: 事後確率。データ$X$が得られた時、そのデータがパラメータ$\\theta$（に従う分布）から生成された確率。\n",
    "- $p(X|\\theta)$: 尤度。パラメータ$\\theta$の下でデータ$X$が得られる確率。\n",
    "- $p(\\theta)$: 事前確率。パラメータ$\\theta$が得られる確率。\n",
    "- $p(X)$: 周辺尤度: $p(X)=\\int p(\\theta)p(X|\\theta) d\\theta$。データ$X$が得られる確率。"
   ]
  },
  {
   "attachments": {},
   "cell_type": "markdown",
   "metadata": {},
   "source": [
    "---"
   ]
  },
  {
   "cell_type": "code",
   "execution_count": 2,
   "metadata": {},
   "outputs": [
    {
     "data": {
      "text/plain": [
       "tensor([175.3916, 182.3536, 170.2392, 164.1747, 169.5545, 172.0858, 187.3983,\n",
       "        174.1693, 146.1737, 166.1940, 169.0114, 191.2890, 158.1477, 178.0942,\n",
       "        184.8168, 172.0243, 150.3605, 173.8436, 164.6238, 175.0518, 173.6584,\n",
       "        176.5569, 178.1773, 161.4642, 187.5168, 164.8531, 174.1188, 189.5366,\n",
       "        170.7517, 181.7800, 164.7043, 162.3436, 164.6047, 156.7407, 164.9712,\n",
       "        175.7405, 175.6938, 148.4298, 186.4406, 183.5976, 178.7185, 165.6237,\n",
       "        174.3169, 183.8178, 181.2348, 179.5482, 162.5016, 178.4841, 177.0242,\n",
       "        164.8194, 175.5297, 165.7169, 153.9488, 179.8799, 167.4362, 179.0280,\n",
       "        172.6878, 167.2223, 169.1530, 153.2343, 161.6007, 174.6630, 175.4798,\n",
       "        179.6972, 163.2744, 165.9191, 188.9536, 163.1910, 160.6373, 162.4512,\n",
       "        158.3925, 171.3392, 155.4900, 171.2405, 180.2444, 166.3915, 169.2993,\n",
       "        164.2432, 172.5396, 168.7148, 178.7897, 165.8812, 152.6279, 178.0846,\n",
       "        164.7184, 159.1592, 162.5136, 169.9597, 171.2807, 164.2493, 164.0279,\n",
       "        169.4487, 173.1112, 175.5893, 163.2240, 159.0115, 184.8920, 165.0149,\n",
       "        164.3203, 160.4937])"
      ]
     },
     "execution_count": 2,
     "metadata": {},
     "output_type": "execute_result"
    }
   ],
   "source": [
    "mu, sigma = 170, 10\n",
    "\n",
    "norm = dist.Normal(mu, sigma)\n",
    "data = norm.sample((100,))\n",
    "data"
   ]
  },
  {
   "cell_type": "code",
   "execution_count": null,
   "metadata": {},
   "outputs": [],
   "source": []
  },
  {
   "cell_type": "code",
   "execution_count": null,
   "metadata": {},
   "outputs": [],
   "source": []
  },
  {
   "cell_type": "code",
   "execution_count": null,
   "metadata": {},
   "outputs": [],
   "source": []
  }
 ],
 "metadata": {
  "kernelspec": {
   "display_name": "dl",
   "language": "python",
   "name": "python3"
  },
  "language_info": {
   "codemirror_mode": {
    "name": "ipython",
    "version": 3
   },
   "file_extension": ".py",
   "mimetype": "text/x-python",
   "name": "python",
   "nbconvert_exporter": "python",
   "pygments_lexer": "ipython3",
   "version": "3.11.3"
  },
  "orig_nbformat": 4
 },
 "nbformat": 4,
 "nbformat_minor": 2
}
