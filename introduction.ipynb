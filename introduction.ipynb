{
 "cells": [
  {
   "cell_type": "markdown",
   "metadata": {},
   "source": [
    "# 確率変数と確率分布\n",
    "\n",
    "確率モデルを学ぶ上での基礎知識。"
   ]
  },
  {
   "cell_type": "code",
   "execution_count": 1,
   "metadata": {},
   "outputs": [],
   "source": [
    "import matplotlib.pyplot as plt"
   ]
  },
  {
   "cell_type": "markdown",
   "metadata": {},
   "source": [
    "\n",
    "---\n",
    "\n",
    "## 確率変数\n",
    "\n",
    "値が確率的に決まる変数。確率そのものではないので注意。\n",
    "\n",
    "確率変数の例は以下である。\n",
    "- サイコロを一回振った時に出る目\n",
    "- 宝くじの当選番号"
   ]
  },
  {
   "cell_type": "markdown",
   "metadata": {},
   "source": [
    "上記は「確率的」という表現が一般的に納得できると私が感じた例である。しかし本当にそうだろうか。\n",
    "\n",
    "物質の最小単位は素粒子であるため、素粒子が物理法則に完全に従う場合、あらゆる事象にランダム性が存在しないと言える。  \n",
    "仮に宇宙に存在する全ての素粒子の状態を把握できた場合、あらゆる未来を予測することが可能となる。この話はラプラスの悪魔と呼ばれる。ラプラスの悪魔を認める場合、確率変数というのは存在しないことになるね。\n",
    "\n",
    "しかし、ラプラスの悪魔は量子力学によって否定されている。素粒子の挙動にランダム性が見つかったためである。\n",
    "\n",
    "さてそうなると、当然あらゆる事象にランダム性が存在することとなり、結果あらゆる変数が確率変数と言えてしまうね。"
   ]
  },
  {
   "cell_type": "markdown",
   "metadata": {},
   "source": [
    "実際、確率モデルの世界ではあらゆる変数を確率変数と見做す。  \n",
    "あらゆる事象の裏に確率分布が存在すると考え、得られたデータからそれを推定する。"
   ]
  },
  {
   "cell_type": "markdown",
   "metadata": {},
   "source": [
    "\n",
    "---\n",
    "\n",
    "## 確率分布\n",
    "\n",
    "確率変数がとりうる値とその確率を表したもの。\n",
    "\n",
    "確率分布は$p(x)$と表記する。  \n",
    "確率分布は常に0以上で、また総和が1でないといけない。\n",
    "\n",
    "$$\n",
    "p(x) \\geq 0, \\quad \\sum_{x} p(x) = 1\n",
    "$$\n",
    "\n",
    "確率分布は離散型と連続型に分けられる。"
   ]
  },
  {
   "cell_type": "markdown",
   "metadata": {},
   "source": [
    "### 離散型確率分布\n",
    "\n",
    "確率変数が離散的な場合の確率分布。"
   ]
  },
  {
   "cell_type": "markdown",
   "metadata": {},
   "source": [
    "例として、サイコロを一回振った時に出る目を確率変数$x$として考える。  \n",
    "このとき、$x$が取り得る値とその確率$p(x)$は以下のように表せる。\n",
    "\n",
    "| $x$ | 1 | 2 | 3 | 4 | 5 | 6 |\n",
    "| --- | --- | --- | --- | --- | --- | --- |\n",
    "| $p(x)$ | 1/6 | 1/6 | 1/6 | 1/6 | 1/6 | 1/6 |"
   ]
  },
  {
   "cell_type": "code",
   "execution_count": 4,
   "metadata": {},
   "outputs": [
    {
     "data": {
      "image/png": "[encoded data removed]",
      "text/plain": [
       "<Figure size 640x480 with 1 Axes>"
      ]
     },
     "metadata": {},
     "output_type": "display_data"
    }
   ],
   "source": [
    "x = [1, 2, 3, 4, 5, 6]\n",
    "p = [1/6, 1/6, 1/6, 1/6, 1/6, 1/6]\n",
    "plt.ylim(0, 1)\n",
    "plt.bar(x, p);"
   ]
  },
  {
   "cell_type": "markdown",
   "metadata": {},
   "source": [
    "これが$x$の確率分布である。数式で表すとこう。\n",
    "\n",
    "$$\n",
    "p(x) = \\frac{1}{6}\n",
    "$$"
   ]
  }
 ],
 "metadata": {
  "kernelspec": {
   "display_name": "dl",
   "language": "python",
   "name": "python3"
  },
  "language_info": {
   "codemirror_mode": {
    "name": "ipython",
    "version": 3
   },
   "file_extension": ".py",
   "mimetype": "text/x-python",
   "name": "python",
   "nbconvert_exporter": "python",
   "pygments_lexer": "ipython3",
   "version": "3.11.2"
  },
  "orig_nbformat": 4
 },
 "nbformat": 4,
 "nbformat_minor": 2
}
