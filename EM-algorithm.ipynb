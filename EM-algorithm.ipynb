{
 "cells": [
  {
   "attachments": {},
   "cell_type": "markdown",
   "metadata": {},
   "source": [
    "# EMアルゴリズム\n",
    "\n",
    "最尤推定またはMAP推定を数値的に行う手法。これらが解析的に行えない場合に活躍する。"
   ]
  },
  {
   "cell_type": "markdown",
   "metadata": {},
   "source": [
    "参考\n",
    "- [【徹底解説】EMアルゴリズムをはじめからていねいに | Academaid](https://academ-aid.com/ml/em)\n",
    "- [EMアルゴリズムとともだちになろう | ドクセル](https://www.docswell.com/s/mutopsy/K18DP5-2022-08-16-163818)"
   ]
  },
  {
   "cell_type": "code",
   "execution_count": 1,
   "metadata": {},
   "outputs": [],
   "source": [
    "import torch\n",
    "import pyro\n",
    "import pyro.distributions as dist\n",
    "import numpy as np\n",
    "import matplotlib.pyplot as plt\n",
    "import random"
   ]
  },
  {
   "attachments": {},
   "cell_type": "markdown",
   "metadata": {},
   "source": [
    "\n",
    "---\n",
    "\n",
    "## 潜在変数\n",
    "\n",
    "データ$x$の裏に潜む、$x$をよく表した**観測できない**変数。\n",
    "\n",
    "EMアルゴリズムでは、観測されたデータ$X=(x_1, x_2, \\cdots, x_n)$に対して潜在変数$Z=(z_1, z_2, \\cdots, z_n)$を導入する。$x$に影響を与える潜在変数$z$を考え、それがどのように$x$に作用するかをモデル化するということ。\n",
    "\n",
    "分布が複雑な時は、潜在変数を導入することで計算が簡単になる場合が多い。\n",
    "\n",
    "<br>\n",
    "\n",
    "潜在変数の導入を数学的に表現すると、それは同時分布を定めることとなる。\n",
    "\n",
    "$$\n",
    "p(x, z) = p(x|z)p(z)\n",
    "$$\n",
    "\n",
    "潜在変数の分布$p(z)$と、それがデータ$x$にどう作用するかを表す条件付き分布$p(x|z)$を定めている。"
   ]
  },
  {
   "attachments": {},
   "cell_type": "markdown",
   "metadata": {},
   "source": [
    "\n",
    "---\n",
    "\n",
    "## 理論\n",
    "\n",
    "ではEMアルゴリズムの計算方法を見ていく。"
   ]
  },
  {
   "attachments": {},
   "cell_type": "markdown",
   "metadata": {},
   "source": [
    "まず対数尤度関数を考える。\n",
    "\n",
    "$$\n",
    "\\begin{align}\n",
    "    \\log L(\\theta|X)\n",
    "        &= \\log \\prod_{i=1}^n p(x_i;\\theta) \\\\\n",
    "        &= \\sum_{i=1}^n \\log p(x_i;\\theta) \\\\\n",
    "\\end{align}\n",
    "$$\n",
    "\n",
    "尤度$p(x_i;\\theta)$が複雑で、このまま進めても解が求められない場合を考えていく。"
   ]
  },
  {
   "attachments": {},
   "cell_type": "markdown",
   "metadata": {},
   "source": [
    "ここで潜在変数を導入する。\n",
    "\n",
    "$$\n",
    "p(X;\\theta) = \\sum_Z p(X,Z;\\theta)\n",
    "$$"
   ]
  },
  {
   "attachments": {},
   "cell_type": "markdown",
   "metadata": {},
   "source": [
    "では、この下で対数尤度を見ていく。\n",
    "\n",
    "$$\n",
    "\\begin{align}\n",
    "\\log p(X;\\theta)\n",
    "    &= \\log \\sum_Z p(X,Z;\\theta) \\\\\n",
    "    &= \\log \\sum_Z q(Z) \\frac{p(X,Z;\\theta)}{q(Z)} \\\\\n",
    "    &\\ge \\sum_Z q(Z) \\log \\frac{p(X,Z;\\theta)}{q(Z)} \\\\\n",
    "    &= \\mathcal{L}(q(Z),\\theta)\n",
    "\\end{align}\n",
    "$$\n",
    "\n",
    "途中の不等式は**イェンゼンの不等式**というもの。$q(Z)$はイェンゼンの不等式を使うために適当に持ち出したなんらかの確率分布。現時点では明確になっていない。  \n",
    "また最後に出てきた$\\mathcal{L}(q(Z),\\theta)$は以後**下限**と呼ぶ。"
   ]
  },
  {
   "attachments": {},
   "cell_type": "markdown",
   "metadata": {},
   "source": [
    "ここで、対数尤度関数と下限の差を求めると\n",
    "\n",
    "$$\n",
    "\\log p(X;\\theta) - \\mathcal{L}(q(Z),\\theta) = D_{KL}[q(Z)||p(Z|X;\\theta)]\n",
    "$$\n",
    "\n",
    "$q(Z)$と$p(Z|X,\\theta)$のKLダイバージェンスになる。途中式は省略。これを以下のようにまとめる。\n",
    "\n",
    "$$\n",
    "\\log p(X;\\theta) = \\mathcal{L}(q(Z),\\theta) + D_{KL}[q(Z)||p(Z|X;\\theta)]\n",
    "$$\n",
    "\n",
    "対数尤度をKLダイバージェンスと下限の和で表すことが出来た。これを最大化する。"
   ]
  },
  {
   "cell_type": "markdown",
   "metadata": {},
   "source": [
    "真っ先に思いつくのは、下限とKLダイバージェンスを別々に最大化する方法である。そうすれば対数尤度も大きくなりそう。しかし、このやり方は上手くいかない。なぜかな。\n",
    "\n",
    "まず、我々が自由に操作できる変数は以下の二つである。\n",
    "- $\\theta$\n",
    "- $q(Z)$\n",
    "\n",
    "この二つの変数を対数尤度が最大になるように設定したい訳だが、よく見ると、対数尤度は$q(Z)$に依存していない。したがって、$q(Z)$をいじった時に変わるものは対数尤度ではなく、下限とKLダイバージェンスの比率である。どちらかを大きくする$q(Z)$は、もう一方を小さくする$q(Z)$となる。\n",
    "\n"
   ]
  },
  {
   "cell_type": "markdown",
   "metadata": {},
   "source": [
    "ではどうすべきか。正解は以下。\n",
    "1. $\\theta$を初期化する。\n",
    "2. $\\theta$を固定し、KLダイバージェンスを最小化する。\n",
    "3. $q(Z)$を固定し、下限を最大化する。\n",
    "4. 2, 3を繰り返す。"
   ]
  },
  {
   "cell_type": "markdown",
   "metadata": {},
   "source": [
    "実際にやってみよう\n",
    "\n",
    "まずは$\\theta$の初期化だがこれは何でもよい。とりあえず$\\theta_{old}$と表記しておく。\n",
    "\n",
    "次に、その$\\theta_{old}$の下でKLダイバージェンスを最小化する。つまり$D_{KL}[q(Z)||p(Z|X;\\theta_{old})]=0$となる$q(Z)$を求める。  \n",
    "ここで、KLダイバージェンスは二つの確率分布が完全に一致する際に唯一の0をとる。よって$q(Z)=p(Z|X;\\theta_{old})$とすればよい。"
   ]
  },
  {
   "cell_type": "markdown",
   "metadata": {},
   "source": [
    "では今度はその$q(Z)$を固定して下限を最大化する。つまり以下を行う。\n",
    "\n",
    "$$\n",
    "\\theta_{new} = \\argmax_\\theta \\mathcal{L}(p(Z|X;\\theta_{old}), \\theta)\n",
    "$$\n",
    "\n",
    "この下限を少し整理すると、以下になる。\n",
    "\n",
    "$$\n",
    "\\begin{align}\n",
    "    \\mathcal{L}(p(Z|X;\\theta_{old}),\\theta)\n",
    "        &= \\sum_Z p(Z|X;\\theta_{old}) \\log \\frac{p(X,Z;\\theta)}{p(Z|X;\\theta_{old})} \\\\\n",
    "        &= \\sum_Z p(Z|X;\\theta_{old}) \\log p(X,Z;\\theta) + \\mathrm{const} \\\\\n",
    "        &= \\mathbb{E}_{p(Z|X;\\theta_{old})}\\big[\\log p(X,Z;\\theta)\\big] + \\mathrm{const} \\\\\n",
    "        &= \\mathcal{Q}(\\theta|\\theta_{old}) + \\mathrm{const}\n",
    "\\end{align}\n",
    "$$\n",
    "\n",
    "事後分布に関する対数尤度の期待値になった。これは$\\mathcal Q(\\theta,\\theta_{old})$と表しておく。"
   ]
  },
  {
   "cell_type": "markdown",
   "metadata": {},
   "source": [
    "最後にこの期待値を最大にする$\\theta$を求め、それを新たな$\\theta$とする。これは偏微分で求められる。\n",
    "\n",
    "$$\n",
    "\\theta_{new} = \\argmax_{\\theta} \\mathcal Q(\\theta,\\theta_{old})\n",
    "$$\n",
    "\n",
    "そして$\\theta_{old} := \\theta_{new}$として、同じように期待値を最大化する。これを繰り返すことで、尤度を最大化する$\\theta$を求めることができる。\n",
    "\n",
    "期待値（*Expected value*）の最大化（*Maximization*）を繰り返すため、EMアルゴリズムと呼ばれる。"
   ]
  },
  {
   "attachments": {},
   "cell_type": "markdown",
   "metadata": {},
   "source": [
    "\n",
    "---\n",
    "\n",
    "## 混合ガウス分布の推定\n",
    "\n",
    "混合ガウス分布のパラメータを推定しよう。この分布は、複数のガウス分布が混ざった分布。  \n",
    "混合ガウス分布はEMアルゴリズムに必要な潜在変数を定義しやすく、EMアルゴリズムを適用しやすい。\n",
    "\n",
    "ガウス分布と正規分布は同じ意味であるが、混合と付く場合ガウス分布と呼ぶことの方が多い気がするので、本節ではそう呼ぶ。"
   ]
  },
  {
   "attachments": {},
   "cell_type": "markdown",
   "metadata": {},
   "source": [
    "### 簡単な混合ガウス分布\n",
    "\n",
    "以下のようなサンプルが得られたとする。"
   ]
  },
  {
   "cell_type": "code",
   "execution_count": 2,
   "metadata": {},
   "outputs": [
    {
     "data": {
      "image/png": "[encoded data removed]",
      "text/plain": [
       "<Figure size 640x480 with 1 Axes>"
      ]
     },
     "metadata": {},
     "output_type": "display_data"
    }
   ],
   "source": [
    "theta = 0.7\n",
    "n = 10000\n",
    "\n",
    "ber = dist.Bernoulli(theta)\n",
    "norm0 = dist.Normal(0, 1)\n",
    "norm1 = dist.Normal(5, 1)\n",
    "def sampling(n):\n",
    "    x = []\n",
    "    for _ in range(n):\n",
    "        z = ber.sample()\n",
    "        if z == 0:\n",
    "            x.append(norm0.sample())\n",
    "        else:\n",
    "            x.append(norm1.sample())\n",
    "    return torch.tensor(x)\n",
    "\n",
    "x = sampling(n)\n",
    "plt.hist(x, bins=100, density=True);"
   ]
  },
  {
   "cell_type": "markdown",
   "metadata": {},
   "source": [
    "このような多峰性のある分布には混合ガウス分布を仮定する事が一般的。  \n",
    "上記の場合二つの峰が見られるので、二つのガウス分布が混ざった分布が仮定できそう。\n",
    "\n",
    "混合ガウス分布のパラメータは、各ガウス分布の平均と分散、そして混合比率である。これらのパラメータをEMアルゴリズムによって推定するのだが、今回の例題では平均と分散を既知とし、比率のみを推定する問題とする。少し特殊な例だが、シンプルな例題として。"
   ]
  },
  {
   "cell_type": "markdown",
   "metadata": {},
   "source": [
    "この分布の正解は以下である。\n",
    "\n",
    "$$\n",
    "z_i \\sim \\mathrm{Ber}(\\theta) \\\\\n",
    "x_i \\sim\n",
    "\\begin{cases}\n",
    "    \\mathcal N_0 & z_i = 0 \\\\\n",
    "    \\mathcal N_1 & z_i = 1\n",
    "\\end{cases} \\\\\n",
    "$$\n",
    "\n",
    "この$\\theta$が比率を表している。先で述べた通り、この$\\theta$のみが未知だと仮定し、二つのガウス分布は既知で以下とする。\n",
    "\n",
    "$$\n",
    "\\mathcal{N}_0 = \\mathcal{N}(\\mu=0, \\sigma=1) \\\\\n",
    "\\mathcal{N}_1 = \\mathcal{N}(\\mu=5, \\sigma=1) \\\\\n",
    "$$"
   ]
  },
  {
   "cell_type": "markdown",
   "metadata": {},
   "source": [
    "では求めていこう。\n",
    "\n",
    "まずは潜在変数を考える。混合ガウス分布では、どのガウス分布から得られたかを表すカテゴリ変数を潜在変数として仮定することが一般的である。  \n",
    "今回は二つのガウス分布が混ざっているので、サンプル$x_i$がそのどちらから得られたかを$0, 1$で表す潜在変数$z_i\\in[0,1]$を定義しよう。  \n",
    "そしてこのとき、$z_i$の分布としてベルヌーイ分布$\\mathrm{Ber}(\\theta)$が仮定できる。こうすることでベルヌーイ分布のパラメータ$\\theta$が比率を表すようになり、この$\\theta$を求める問題に落とし込める。\n",
    "\n",
    "これらの仮定は一般的で妥当なものであり、それは上記の正解の式やソースコードを見ると納得できるかもしれない。"
   ]
  },
  {
   "cell_type": "markdown",
   "metadata": {},
   "source": [
    "ではこれらの仮定を同時分布として表そう。\n",
    "\n",
    "$$\n",
    "\\begin{align}\n",
    "p(X,Z|\\theta)\n",
    "    &= p(X|Z)p(Z|\\theta) \\\\\n",
    "    &= \\prod_{i=1}^n p(x_i|z_i)p(z_i|\\theta) \\\\\n",
    "    &= \\prod_{i=1}^n \\mathcal N_{z_i}(x_i)\\mathrm{Ber}(z_i|\\theta)\n",
    "\n",
    "\\end{align}\n",
    "$$"
   ]
  },
  {
   "cell_type": "markdown",
   "metadata": {},
   "source": [
    "次にこの同時分布の期待値を求めよう。\n",
    "\n",
    "$$\n",
    "\\begin{align}\n",
    "\\mathcal Q(\\theta, \\theta_{old})\n",
    "    &= \\mathbb E_{p(Z|X;\\theta_{old})}\\big[\\log p(X,Z|\\theta)\\big] \\\\\n",
    "    &= \\mathbb E_{p(Z|X;\\theta_{old})}\\Big[\\log\\prod_i\\mathcal N_{z_i}(x_i)\\mathrm{Ber}(z_i|\\theta)\\Big] \\\\\n",
    "    &= \\sum_i \\mathbb E_{p(z_i|x_i;\\theta_{old})}\\Big[\\log \\mathrm{Ber}(z_i|\\theta)\\Big] + \\mathrm{const} \\\\\n",
    "\\end{align}\n",
    "$$\n",
    "\n",
    "$\\log$の中の積を和で表し、その$\\Sigma$を外に出した。  \n",
    "$\\mathcal Q$は後程$\\theta$で偏微分するため、$\\theta$に関係のないガウス分布の項は定数として無視する。"
   ]
  },
  {
   "cell_type": "markdown",
   "metadata": {},
   "source": [
    "引き続き変形していく。$\\Sigma$の中を計算する。\n",
    "\n",
    "$$\n",
    "\\begin{align}\n",
    "\\mathbb E_{p(z_i|x_i;\\theta_{old})}\\Big[\\log\\mathrm{Ber}(z_i|\\theta)\\Big]\n",
    "    &= \\sum_{z_i}p(z_i|x_i;\\theta_{old})\\log\\mathrm{Ber}(z_i|\\theta) \\\\\n",
    "    &= p(0|x_i;\\theta_{old})\\log\\mathrm{Ber}(0|\\theta) + p(1|x_i;\\theta_{old})\\log\\mathrm{Ber}(1|\\theta) \\\\\n",
    "    &= r_{i0}\\log(1-\\theta) + r_{i1}\\log(\\theta)\n",
    "\\end{align}\n",
    "$$\n",
    "\n",
    "$p(k|x_i;\\theta_{old})$は$r_{ik}$と表した。これは負担率とも呼ばれる。"
   ]
  },
  {
   "cell_type": "markdown",
   "metadata": {},
   "source": [
    "では、$\\mathcal Q$を$\\theta$で偏微分していく。\n",
    "\n",
    "$$\n",
    "\\begin{align}\n",
    "\\frac{\\partial\\mathcal Q}{\\partial\\theta}\n",
    "    &= \\frac{\\partial}{\\partial\\theta}\\sum_i\\big(r_{i0}\\log(1-\\theta) + r_{i1}\\log(\\theta)\\big) \\\\\n",
    "    &= \\sum_i\\frac{\\partial}{\\partial\\theta}\\big(r_{i0}\\log(1-\\theta)\\big) + \\sum_i\\frac{\\partial}{\\partial\\theta}\\big(r_{i1}\\log(\\theta)\\big) \\\\\n",
    "    &= \\sum_i\\frac{r_{i1}}{\\theta} - \\sum_i\\frac{r_{i0}}{1-\\theta} \\\\\n",
    "\\end{align}\n",
    "$$\n",
    "\n",
    "これが0になるときの$\\theta$を計算すると、以下となる。\n",
    "\n",
    "$$\n",
    "\\theta = \\frac{\\sum_i r_{i1}}{\\sum_i r_{i0} + \\sum_i r_{i1}}\n",
    "$$"
   ]
  },
  {
   "cell_type": "code",
   "execution_count": 3,
   "metadata": {},
   "outputs": [],
   "source": [
    "theta = 0.3"
   ]
  },
  {
   "cell_type": "code",
   "execution_count": 4,
   "metadata": {},
   "outputs": [],
   "source": [
    "def return_new_theta(theta, X):\n",
    "    j0 = (1 - theta) * norm0.log_prob(X).exp()\n",
    "    j1 = theta * norm1.log_prob(X).exp()\n",
    "    r0 = (j0 / (j1 + j0)).sum()\n",
    "    r1 = (j1 / (j1 + j0)).sum()\n",
    "    return (r1 / (r1 + r0)).item()"
   ]
  },
  {
   "cell_type": "code",
   "execution_count": 5,
   "metadata": {},
   "outputs": [
    {
     "name": "stdout",
     "output_type": "stream",
     "text": [
      "0.3\n",
      "0.6960307955741882\n",
      "0.7037356495857239\n",
      "0.7038848400115967\n",
      "0.7038877606391907\n",
      "0.7038877606391907\n",
      "0.7038877606391907\n",
      "0.7038877606391907\n",
      "0.7038877606391907\n",
      "0.7038877606391907\n"
     ]
    }
   ],
   "source": [
    "for _ in range(10):\n",
    "    print(theta)\n",
    "    theta = return_new_theta(theta, x)"
   ]
  },
  {
   "attachments": {},
   "cell_type": "markdown",
   "metadata": {},
   "source": [
    "### 一般的な混合ガウス分布\n",
    "\n",
    "こんな分布を考える"
   ]
  },
  {
   "cell_type": "code",
   "execution_count": 6,
   "metadata": {},
   "outputs": [
    {
     "data": {
      "image/png": "[encoded data removed]",
      "text/plain": [
       "<Figure size 640x480 with 1 Axes>"
      ]
     },
     "metadata": {},
     "output_type": "display_data"
    }
   ],
   "source": [
    "pi = [0.2, 0.3, 0.5]\n",
    "mu = [-5., 0., 9.]\n",
    "sigma = [1., 2., 2.]\n",
    "\n",
    "norm = [dist.Normal(m, s) for m, s in zip(mu, sigma)]\n",
    "\n",
    "ax = torch.arange(-10, 16, 0.1)\n",
    "y = torch.stack([p * n.log_prob(ax).exp() for n, p in zip(norm, pi)])\n",
    "for i in range(1, 3):\n",
    "    y[i] += y[i-1]\n",
    "plt.plot(ax, y.T.flip(-1));"
   ]
  },
  {
   "cell_type": "markdown",
   "metadata": {},
   "source": [
    "これが3つのガウス分布を足して作られた真の分布"
   ]
  }
 ],
 "metadata": {
  "kernelspec": {
   "display_name": "dl",
   "language": "python",
   "name": "python3"
  },
  "language_info": {
   "codemirror_mode": {
    "name": "ipython",
    "version": 3
   },
   "file_extension": ".py",
   "mimetype": "text/x-python",
   "name": "python",
   "nbconvert_exporter": "python",
   "pygments_lexer": "ipython3",
   "version": "3.11.2"
  },
  "orig_nbformat": 4
 },
 "nbformat": 4,
 "nbformat_minor": 2
}
