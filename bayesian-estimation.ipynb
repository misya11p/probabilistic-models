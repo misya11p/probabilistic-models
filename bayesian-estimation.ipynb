{
 "cells": [
  {
   "attachments": {},
   "cell_type": "markdown",
   "metadata": {},
   "source": [
    "# ベイズ推定\n",
    "\n",
    "あるデータ$X$が得られた時のパラメータ$\\theta$の事後分布を求める。\n",
    "\n",
    "$$\n",
    "p(\\theta|X)\n",
    "$$\n",
    "\n",
    "MAP推定では事後分布が最大となる$\\theta$を求めていたが、ベイズ推定では事後分布そのものを求める。"
   ]
  },
  {
   "cell_type": "code",
   "execution_count": 1,
   "metadata": {},
   "outputs": [],
   "source": [
    "import torch\n",
    "import pyro.distributions as dist\n",
    "import matplotlib.pyplot as plt"
   ]
  },
  {
   "attachments": {},
   "cell_type": "markdown",
   "metadata": {},
   "source": [
    "\n",
    "---\n",
    "\n",
    "## 解析的な推定\n",
    "\n",
    "解析的に求めていく。"
   ]
  },
  {
   "attachments": {},
   "cell_type": "markdown",
   "metadata": {},
   "source": [
    "MAP推定でも使ったこの例題でやってみる。\n",
    "\n",
    "> 東京都に住む成人男性の平均身長を求めたい。アンケートを実施して、10000の標本を集めることができた。この10000人分のデータを元に、平均身長を求める。具体的には、身長が正規分布に従うと仮定し、その分布の平均値を求める。なお標準偏差は既知で$\\sigma=10$とする。また、日本の成人男性の身長が平均170cm、標準偏差10cmの正規分布に従うことを知っているとする。\n",
    "\n",
    "ただ今回は、平均値の具体的な値ではなく、<u>パラメータ=**平均値</u>の分布**を求める事に注意。\n",
    "\n",
    "<br>\n",
    "\n",
    "標本はMAP推定と同じものを使用する。平均174cm、標準偏差10cmの正規分布。"
   ]
  },
  {
   "cell_type": "code",
   "execution_count": 2,
   "metadata": {},
   "outputs": [
    {
     "data": {
      "image/png": "[encoded data removed]",
      "text/plain": [
       "<Figure size 640x480 with 1 Axes>"
      ]
     },
     "metadata": {},
     "output_type": "display_data"
    }
   ],
   "source": [
    "norm = dist.Normal(174, 10)\n",
    "x = norm.sample((10000,))\n",
    "plt.hist(x, bins=50);"
   ]
  },
  {
   "attachments": {},
   "cell_type": "markdown",
   "metadata": {},
   "source": [
    "では求めていく。まずはベイズの定理を使って事後分布を以下のように表す。\n",
    "\n",
    "$$\n",
    "p(\\theta|X) = \\frac{p(X|\\theta)p(\\theta)}{p(X)} \\propto p(X|\\theta)p(\\theta)\n",
    "$$\n",
    "\n",
    "$p(X)$は$\\theta$に依存しない定数なので、分布を推定する上では考えなくていい。"
   ]
  },
  {
   "attachments": {},
   "cell_type": "markdown",
   "metadata": {},
   "source": [
    "$p(X|\\theta)$から求める。$X$は正規分布に従い、その分散が10であることまで分かっている為、以下のようにできる。\n",
    "\n",
    "$$\n",
    "\\begin{align}\n",
    "p(X|\\theta)\n",
    "    &= \\prod_{i=1}^n p(x_i|\\theta) \\\\\n",
    "    &= \\prod_{i=1}^n \\mathcal N(x_i;\\theta, 10) \\\\\n",
    "    &= \\prod_{i=1}^n \\frac{1}{\\sqrt{2\\pi \\cdot 10^2}} \\exp\\left(-\\frac{(x_i-\\theta)^2}{2 \\cdot 10^2}\\right) \\\\\n",
    "    &= \\left( \\frac{1}{\\sqrt{200\\pi }} \\right)^n \\exp \\left( -\\frac{1}{200}\\sum_{i=1}^n (x_i-\\theta)^2 \\right) \\\\\n",
    "\\end{align}"
   ]
  },
  {
   "attachments": {},
   "cell_type": "markdown",
   "metadata": {},
   "source": [
    "ここで指数部分を更に変形する\n",
    "\n",
    "$$\n",
    "\\begin{align}\n",
    "\\sum_{i=1}^n (x_i-\\theta)^2\n",
    "    &= \\sum_{i=1}^n (x_i^2 - 2x_i\\theta + \\theta^2) \\\\\n",
    "    &= \\sum_{i=1}^n x_i^2 - 2\\theta \\sum_{i=1}^n x_i + n\\theta^2 \\\\\n",
    "\\end{align}\n",
    "$$\n",
    "\n",
    "でこれは$X$の平均$\\bar X$と分散$S^2$を使って\n",
    "\n",
    "$$\n",
    "\\begin{align}\n",
    "\\bar X &= \\frac{1}{n}\\sum_{i=1}^n x_i \\\\\n",
    "S^2 &= \\bar {X^2} - {\\bar X}^2 = \\frac{1}{n} \\sum_{i=1}^n x_i^2 - {\\bar X}^2 \\\\\n",
    "\\end{align}\n",
    "$$\n",
    "\n",
    "以下のように進める。\n",
    "\n",
    "$$\n",
    "\\begin{align}\n",
    "\\sum_{i=1}^n x_i^2 - 2\\theta \\sum_{i=1}^n x_i + n\\theta^2\n",
    "    &= n(S^2+{\\bar X^2}) - 2\\theta n\\bar X  + n\\theta^2 \\\\\n",
    "    &= nS^2 + n(\\bar X - \\theta)^2 \\\\\n",
    "\\end{align}\n",
    "$$\n",
    "\n",
    "これを元の式に代入する。\n",
    "\n",
    "$$\n",
    "p(X|\\theta) = \\left( \\frac{1}{\\sqrt{200\\pi }} \\right)^n \\exp \\left( -\\frac{1}{200} (nS^2 + n(\\bar X - \\theta)^2) \\right)\n",
    "$$\n",
    "\n",
    "できた"
   ]
  },
  {
   "attachments": {},
   "cell_type": "markdown",
   "metadata": {},
   "source": [
    "次に事前分布$p(\\theta)$を求める。MAP推定同様、平均170、標準偏差10の正規分布としよう。\n",
    "\n",
    "$$\n",
    "\\begin{align}\n",
    "p(\\theta)\n",
    "    &= \\mathcal N(\\theta; 170, 10) \\\\\n",
    "    &= \\frac{1}{\\sqrt{200\\pi}} \\exp\\left(-\\frac{(\\theta-170)^2}{200}\\right) \\\\\n",
    "\\end{align}\n",
    "$$\n",
    "\n",
    "できた"
   ]
  },
  {
   "attachments": {},
   "cell_type": "markdown",
   "metadata": {},
   "source": [
    "ではこれらをかけていく。\n",
    "\n",
    "$$\n",
    "\\begin{align}\n",
    "p(X|\\theta)p(\\theta)\n",
    "    &= \\left( \\frac{1}{\\sqrt{200\\pi }} \\right)^n \\exp \\left( -\\frac{1}{200} (nS^2 + n(\\bar X - \\theta)^2\\right) \\frac{1}{\\sqrt{200\\pi}} \\exp\\left(-\\frac{(\\theta-170)^2}{200} \\right) \\\\\n",
    "    &\\propto \\exp \\left( -\\frac{1}{200} (nS^2 + n(\\bar X - \\theta)^2 + (\\theta-170)^2) \\right) \\\\\n",
    "    &= \\exp \\left( -\\frac{1}{200} (n(\\bar X - \\theta)^2 + (\\theta-170)^2) \\right) \\exp \\left( -\\frac{1}{200} nS^2 \\right) \\\\\n",
    "    &\\propto \\exp \\left( -\\frac{1}{200} (n(\\bar X - \\theta)^2 + (\\theta-170)^2) \\right)\n",
    "\\end{align}\n",
    "$$\n",
    "\n",
    "例によって$\\theta$に関係のない部分は無視する。\n",
    "\n",
    "ここで、指数の中を$-\\frac{(\\theta-\\mu)^2}{2\\sigma^2}$の形にできれば$\\mathcal N(\\theta;\\mu,\\sigma^2)$と比例の関係で表せるので、それを目指す。"
   ]
  },
  {
   "attachments": {},
   "cell_type": "markdown",
   "metadata": {},
   "source": [
    "ではどうすればその形になるかというと、$\\theta$について平方完成をすればいい。  \n",
    "やってみよう。\n",
    "\n",
    "$$\n",
    "\\begin{align}\n",
    "n(\\bar X - \\theta)^2 + (\\theta-170)^2\n",
    "    &= n\\bar X^2 - 2n\\bar X\\theta + n\\theta^2 + \\theta^2 - 340\\theta + 28900 \\\\\n",
    "    &= (n+1)\\theta^2 - (2n\\bar X+340)\\theta + n\\bar X^2 + 28900 \\\\\n",
    "    &= (n+1) \\left( \\theta - \\frac{n\\bar X+170}{n+1} \\right)^2 + \\mathrm{const} \\\\\n",
    "\\end{align}\n",
    "$$\n",
    "\n",
    "$\\theta$に関係のない部分は定数$\\mathrm{const}$として無視する。  \n",
    "んでこれを代入すると\n",
    "\n",
    "$$\n",
    "\\begin{align}\n",
    "p(\\theta|X)\n",
    "    &\\propto p(X|\\theta)p(\\theta) \\\\\n",
    "    &\\propto \\exp \\left( -\\frac{1}{200} (n+1) \\left( \\theta - \\frac{n\\bar X+170}{n+1} \\right)^2 + \\mathrm{const}) \\right) \\\\\n",
    "    &\\propto \\exp \\left( -\\frac{1}{200} (n+1) \\left( \\theta - \\frac{n\\bar X+170}{n+1} \\right)^2 \\right) \\\\\n",
    "    &= \\exp \\left( -\\frac{\\left( \\theta - \\frac{n\\bar X+170}{n+1} \\right)^2}{2\\frac{100}{n+1}} \\right) \\\\\n",
    "    &\\propto \\mathcal N(\\theta; \\mu=\\frac{n\\bar X+170}{n+1}, \\sigma^2=\\frac{100}{n+1}) \\\\\n",
    "\\end{align}\n",
    "$$\n",
    "\n",
    "無事に正規分布の形で表せた。\n",
    "\n",
    "ということで、求めたい事後分布は平均$\\frac{n\\bar X+170}{n+1}$、分散$\\frac{100}{n+1}$の正規分布となった。  \n",
    "ここに$n=10000$、$\\bar X=174$を代入すると答えが得られる。"
   ]
  },
  {
   "cell_type": "code",
   "execution_count": 20,
   "metadata": {},
   "outputs": [
    {
     "name": "stdout",
     "output_type": "stream",
     "text": [
      "mu:173.999600039996, sigma:0.09999500037496875\n"
     ]
    }
   ],
   "source": [
    "n, bar_x = 10000, 174\n",
    "mu = (bar_x*n + 170) / (n+1)\n",
    "sigma = 10 / (n+1)**0.5\n",
    "print(f'mu:{mu}, sigma:{sigma}')"
   ]
  },
  {
   "attachments": {},
   "cell_type": "markdown",
   "metadata": {},
   "source": [
    "当然、平均はMAP推定と同じ。分散も捉え方はMAP推定で書いたことと同じで、サンプル数$n$が多ければ多いほど標本から得られた値を信じるようになる。$n$が小さければ小さいほど事前分布の影響を大きく受ける。実際に$n=0$とするとパラメータは事前分布のものと完全に一致する。\n",
    "\n",
    "標本から得られた値を入れてみるとこんな感じ。"
   ]
  },
  {
   "cell_type": "code",
   "execution_count": 21,
   "metadata": {},
   "outputs": [
    {
     "name": "stdout",
     "output_type": "stream",
     "text": [
      "n:10000, bar_x:174.04917907714844\n",
      "mu:174.0147775993885, sigma:0.10000500037503125\n"
     ]
    },
    {
     "data": {
      "image/png": "[encoded data removed]",
      "text/plain": [
       "<Figure size 640x480 with 1 Axes>"
      ]
     },
     "metadata": {},
     "output_type": "display_data"
    }
   ],
   "source": [
    "n, bar_x = len(x), x.mean().item()\n",
    "print(f'n:{n}, bar_x:{bar_x}')\n",
    "\n",
    "mu = (bar_x*n - 170) / (n+1)\n",
    "sigma = 10 / (n-1)**0.5\n",
    "print(f'mu:{mu}, sigma:{sigma}')\n",
    "\n",
    "posterior = dist.Normal(mu, sigma)\n",
    "t = torch.linspace(170, 180, 1000)\n",
    "y = posterior.log_prob(t).exp()\n",
    "plt.plot(t, y);"
   ]
  },
  {
   "attachments": {},
   "cell_type": "markdown",
   "metadata": {},
   "source": [
    "パラメータ$\\theta$の事前分布に正規分布を仮定し、尤度に平均が$\\theta$（で分散が既知）の正規分布を仮定した場合のベイズ推定の一般的な解は以下を参照。\n",
    "- [正規分布の事後分布の平均と分散【ベイズ】 | AVILEN AI Trend](https://ai-trend.jp/basic-study/bayes/bayes-normal-distribution/)"
   ]
  },
  {
   "attachments": {},
   "cell_type": "markdown",
   "metadata": {},
   "source": [
    "\n",
    "---\n",
    "\n",
    "## 共役事前分布\n",
    "\n",
    "尤度との積が事後分布と一致するような事前分布。"
   ]
  },
  {
   "attachments": {},
   "cell_type": "markdown",
   "metadata": {},
   "source": [
    "↑の例題では、事前分布と尤度に正規分布を仮定し、事後分布として正規分布が得られた。しかし、全ての場合でこのような**都合の良い結果**が得られるとは限らない。事前分布と事後分布が一致するような結果を得るためには、尤度に対して共役な事前分布を設定する必要がある。\n",
    "\n",
    "尤度と共役事前分布の例を以下に示す。\n",
    "\n",
    "| 尤度 | 共役事前分布 |\n",
    "| --- | --- |\n",
    "| ベータ分布 | ベルヌーイ分布 |\n",
    "| 二項分布 | ベルヌーイ分布 |\n",
    "| 正規分布（分散既知） | 正規分布 |\n",
    "| 正規分布（平均既知） | 逆ガンマ分布 |\n",
    "| ポアソン分布 | ガンマ分布 |"
   ]
  }
 ],
 "metadata": {
  "kernelspec": {
   "display_name": ".venv",
   "language": "python",
   "name": "python3"
  },
  "language_info": {
   "codemirror_mode": {
    "name": "ipython",
    "version": 3
   },
   "file_extension": ".py",
   "mimetype": "text/x-python",
   "name": "python",
   "nbconvert_exporter": "python",
   "pygments_lexer": "ipython3",
   "version": "3.11.2"
  },
  "orig_nbformat": 4,
  "vscode": {
   "interpreter": {
    "hash": "1983e22c2b1393af7863a1657dfcd306b5ff04ead0c1800318ffb0a944b6c216"
   }
  }
 },
 "nbformat": 4,
 "nbformat_minor": 2
}
