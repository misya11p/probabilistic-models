{
 "cells": [
  {
   "attachments": {},
   "cell_type": "markdown",
   "metadata": {},
   "source": [
    "# EMアルゴリズム\n",
    "\n",
    "最尤推定またはMAP推定を数値的に行う手法。"
   ]
  },
  {
   "cell_type": "markdown",
   "metadata": {},
   "source": [
    "参考\n",
    "\n",
    "- [【徹底解説】EM アルゴリズムをはじめからていねいに | Academaid](https://academ-aid.com/ml/em)\n",
    "- [EM アルゴリズムとともだちになろう | ドクセル](https://www.docswell.com/s/mutopsy/K18DP5-2022-08-16-163818)\n"
   ]
  },
  {
   "cell_type": "code",
   "execution_count": 1,
   "metadata": {},
   "outputs": [],
   "source": [
    "import random\n",
    "import torch\n",
    "import pyro\n",
    "import pyro.distributions as dist\n",
    "import numpy as np\n",
    "import matplotlib.pyplot as plt"
   ]
  },
  {
   "attachments": {},
   "cell_type": "markdown",
   "metadata": {},
   "source": [
    "\n",
    "---\n",
    "\n",
    "## 潜在変数\n",
    "\n",
    "観測データの裏に潜む、データをよく表した**観測できない**変数。"
   ]
  },
  {
   "cell_type": "markdown",
   "metadata": {},
   "source": [
    "観測データの分布が複雑な時は、潜在変数を導入することで計算が簡単になる場合が多い。  \n",
    "潜在変数の導入とは、観測されたデータ$X=\\{x^{(1)}, x^{(2)}, \\cdots, x^{(N)}\\}$の裏に潜在変数$Z=\\{z^{(1)}, z^{(2)}, \\cdots, z^{(N)}\\}$が存在すると仮定し、それをモデル化すること。$x$に影響を与える何らかの確率変数を考え、それがどのように観測データに作用するかをモデル化するということ。"
   ]
  },
  {
   "cell_type": "markdown",
   "metadata": {},
   "source": [
    "潜在変数の導入を数学的に表現すると、それは観測データと潜在変数の同時分布を定めることになる。\n",
    "\n",
    "$$\n",
    "p(x,z) = p(x|z)p(z)\n",
    "$$\n",
    "\n",
    "潜在変数の分布$p(z)$と、それがデータ$x$にどう作用するかを表す条件付き分布$p(x|z)$を定めている。"
   ]
  },
  {
   "cell_type": "markdown",
   "metadata": {},
   "source": [
    "潜在変数を導入し、尤度を以下のように周辺化して表す。\n",
    "\n",
    "$$\n",
    "p(x;\\theta) = \\sum_z p(x,z;\\theta) = \\sum_z p(x|z;\\theta)p(z;\\theta)\n",
    "$$"
   ]
  },
  {
   "attachments": {},
   "cell_type": "markdown",
   "metadata": {},
   "source": [
    "\n",
    "---\n",
    "\n",
    "## EMアルゴリズム\n",
    "\n",
    "EMアルゴリズムの計算方法を見ていく。"
   ]
  },
  {
   "attachments": {},
   "cell_type": "markdown",
   "metadata": {},
   "source": [
    "まず対数尤度関数を考える。\n",
    "\n",
    "$$\n",
    "\\begin{align}\n",
    "    \\log p(X;\\theta)\n",
    "        &= \\log \\prod_{i=1}^n p(x^{(i)};\\theta) \\\\\n",
    "        &= \\sum_{i=1}^n \\log p(x^{(i)};\\theta) \\\\\n",
    "\\end{align}\n",
    "$$\n",
    "\n",
    "尤度$p(x^{(i)};\\theta)$が複雑で、このまま進めても解が求められない場合を考えていく。"
   ]
  },
  {
   "attachments": {},
   "cell_type": "markdown",
   "metadata": {},
   "source": [
    "ここで潜在変数を導入する。\n",
    "\n",
    "$$\n",
    "p(X;\\theta) = \\sum_Z p(X,Z;\\theta)\n",
    "$$\n"
   ]
  },
  {
   "attachments": {},
   "cell_type": "markdown",
   "metadata": {},
   "source": [
    "では、この下で対数尤度を見ていく。\n",
    "\n",
    "$$\n",
    "\\begin{align}\n",
    "\\log p(X;\\theta)\n",
    "    &= \\log \\sum_Z p(X,Z;\\theta) \\\\\n",
    "    &= \\log \\sum_Z q(Z) \\frac{p(X,Z;\\theta)}{q(Z)} \\\\\n",
    "    &\\ge \\sum_Z q(Z) \\log \\frac{p(X,Z;\\theta)}{q(Z)} \\\\\n",
    "    &= \\mathcal{L}(q(Z),\\theta)\n",
    "\\end{align}\n",
    "$$\n",
    "\n",
    "途中の不等式は**イェンゼンの不等式**というもの。$q(Z)$はイェンゼンの不等式を使うために適当に持ち出したなんらかの確率分布。現時点では明確になっていない。  \n",
    "また最後に出てきた$\\mathcal{L}(q(Z),\\theta)$は以後**下限**と呼ぶ。\n"
   ]
  },
  {
   "attachments": {},
   "cell_type": "markdown",
   "metadata": {},
   "source": [
    "ここで、対数尤度関数と下限の差を求めると\n",
    "\n",
    "$$\n",
    "\\log p(X;\\theta) - \\mathcal{L}(q(Z),\\theta) = D_{KL}[q(Z)||p(Z|X;\\theta)]\n",
    "$$\n",
    "\n",
    "$q(Z)$と$p(Z|X,\\theta)$の KL ダイバージェンスになる。途中式は省略。これを以下のようにまとめる。\n",
    "\n",
    "$$\n",
    "\\log p(X;\\theta) = \\mathcal{L}(q(Z),\\theta) + D_{KL}[q(Z)||p(Z|X;\\theta)]\n",
    "$$\n",
    "\n",
    "対数尤度を KL ダイバージェンスと下限の和で表すことが出来た。これを最大化する。\n"
   ]
  },
  {
   "cell_type": "markdown",
   "metadata": {},
   "source": [
    "真っ先に思いつくのは、下限と KL ダイバージェンスを別々に最大化する方法である。そうすれば対数尤度も大きくなりそう。しかし、このやり方は上手くいかない。なぜかな。\n",
    "\n",
    "まず、我々が自由に操作できる変数は以下の二つである。\n",
    "\n",
    "- $\\theta$\n",
    "- $q(Z)$\n",
    "\n",
    "この二つの変数を対数尤度が最大になるように設定したい訳だが、実は対数尤度は$q(Z)$に依存しない。したがって、$q(Z)$をいじった時に変わるものは対数尤度ではなく、下限と KL ダイバージェンスの比率である。どちらかを大きくする$q(Z)$は、もう一方を小さくする$q(Z)$となる。\n"
   ]
  },
  {
   "cell_type": "markdown",
   "metadata": {},
   "source": [
    "ではどうすべきか。正解は以下。\n",
    "\n",
    "1. $\\theta$を初期化する。\n",
    "2. $\\theta$を固定し、KL ダイバージェンスを最小化する。\n",
    "3. $q(Z)$を固定し、下限を最大化する。\n",
    "4. 2, 3 を繰り返す。\n"
   ]
  },
  {
   "cell_type": "markdown",
   "metadata": {},
   "source": [
    "実際にやってみよう\n",
    "\n",
    "まずは$\\theta$の初期化だがこれは何でもよい。とりあえず$\\theta_{old}$と表記しておく。\n",
    "\n",
    "次に、その$\\theta_{old}$の下で KL ダイバージェンスを最小化する。つまり$D_{KL}[q(Z)||p(Z|X;\\theta_{old})]=0$となる$q(Z)$を求める。  \n",
    "ここで、KL ダイバージェンスは二つの確率分布が完全に一致する際に唯一の 0 をとる。よって$q(Z)=p(Z|X;\\theta_{old})$とすればよい。\n"
   ]
  },
  {
   "cell_type": "markdown",
   "metadata": {},
   "source": [
    "では今度はその$q(Z)$を固定して下限を最大化する。つまり以下を行う。\n",
    "\n",
    "$$\n",
    "\\theta_{new} = \\argmax_\\theta \\mathcal{L}(p(Z|X;\\theta_{old}), \\theta)\n",
    "$$\n",
    "\n",
    "この下限を少し整理すると、以下になる。\n",
    "\n",
    "$$\n",
    "\\begin{align}\n",
    "    \\mathcal{L}(p(Z|X;\\theta_{old}),\\theta)\n",
    "        &= \\sum_Z p(Z|X;\\theta_{old}) \\log \\frac{p(X,Z;\\theta)}{p(Z|X;\\theta_{old})} \\\\\n",
    "        &= \\sum_Z p(Z|X;\\theta_{old}) \\log p(X,Z;\\theta) + \\mathrm{const} \\\\\n",
    "        &= \\mathbb{E}_{p(Z|X;\\theta_{old})}\\big[\\log p(X,Z;\\theta)\\big] + \\mathrm{const} \\\\\n",
    "        &= \\mathcal{Q}(\\theta|\\theta_{old}) + \\mathrm{const}\n",
    "\\end{align}\n",
    "$$\n",
    "\n",
    "事後分布に関する同時分布の対数尤度の期待値になった。これは$\\mathcal Q(\\theta,\\theta_{old})$と表しておく。\n"
   ]
  },
  {
   "cell_type": "markdown",
   "metadata": {},
   "source": [
    "最後にこの期待値を最大にする$\\theta$を求め、それを新たな$\\theta$とする。これは偏微分で求められる。\n",
    "\n",
    "$$\n",
    "\\theta_{new} = \\argmax_{\\theta} \\mathcal Q(\\theta,\\theta_{old})\n",
    "$$\n",
    "\n",
    "そして$\\theta_{old} := \\theta_{new}$として、同じように期待値を最大化する。これを繰り返すことで、尤度を最大化する$\\theta$を求めることができる。"
   ]
  },
  {
   "cell_type": "markdown",
   "metadata": {},
   "source": [
    "ということで、EMアルゴリズムの流れは以下\n",
    "\n",
    "1. 潜在変数の導入（同時分布$p(x,z;\\theta)$の定義）\n",
    "2. パラメータ$\\theta_{\\text{old}}$の初期化\n",
    "3. 同時分布の期待値の最大化:\n",
    "    - $\\theta_{\\text{new}} \\larr \\argmax_\\theta \\mathcal Q(\\theta|\\theta_{\\text{old}})$\n",
    "    - $\\theta_{\\text{old}} \\larr \\theta_{\\text{new}}$\n",
    "4. 3を繰り返す\n",
    "\n",
    "期待値（_Expected value_）の最大化（_Maximization_）を繰り返すため、EM アルゴリズムと呼ばれる。"
   ]
  },
  {
   "attachments": {},
   "cell_type": "markdown",
   "metadata": {},
   "source": [
    "\n",
    "---\n",
    "\n",
    "## 簡単な混合ガウス分布の推定\n",
    "\n",
    "簡単な混合ガウス分布のパラメータを推定しよう。混合ガウス分布は、複数のガウス分布が混ざった分布。  \n",
    "混合ガウス分布は EM アルゴリズムに必要な潜在変数を導入しやすく、EM アルゴリズムを適用しやすい。\n",
    "\n",
    "ガウス分布と正規分布は同じ意味であるが、混合と付く場合ガウス分布と呼ぶことの方が多い気がするので、そう呼ぶ。"
   ]
  },
  {
   "cell_type": "markdown",
   "metadata": {},
   "source": [
    "本節では、通常のガウス分布を簡略化して、パラメータの推定を行ってみる。\n",
    "\n",
    "以下のようなサンプルが得られたとする。"
   ]
  },
  {
   "cell_type": "code",
   "execution_count": 2,
   "metadata": {},
   "outputs": [
    {
     "data": {
      "image/png": "[encoded data removed]",
      "text/plain": [
       "<Figure size 640x480 with 1 Axes>"
      ]
     },
     "metadata": {},
     "output_type": "display_data"
    }
   ],
   "source": [
    "theta = 0.7\n",
    "n = 10000\n",
    "\n",
    "ber = dist.Bernoulli(theta)\n",
    "norm0 = dist.Normal(0, 1)\n",
    "norm1 = dist.Normal(5, 1)\n",
    "\n",
    "\n",
    "def sampling(n):\n",
    "    x = []\n",
    "    for _ in range(n):\n",
    "        z = ber.sample()\n",
    "        if z == 0:\n",
    "            x.append(norm0.sample())\n",
    "        else:\n",
    "            x.append(norm1.sample())\n",
    "    return torch.tensor(x)\n",
    "\n",
    "\n",
    "x = sampling(n)\n",
    "plt.hist(x, bins=100, density=True);"
   ]
  },
  {
   "cell_type": "markdown",
   "metadata": {},
   "source": [
    "このような多峰性のある分布には混合ガウス分布を仮定する事が一般的。  \n",
    "上記の場合二つの峰が見られるので、二つのガウス分布が混ざった分布を仮定できそう。\n",
    "\n",
    "混合ガウス分布のパラメータは、各ガウス分布のパラメータ（平均と分散）、そしてそれらの比率を表す混合比率である。これらのパラメータを EM アルゴリズムによって推定するのだが、今回の例題では各ガウス分布のパラメータを既知とし、混合比率のみを推定する問題とする。少し特殊な例だが、シンプルな例題として。"
   ]
  },
  {
   "cell_type": "markdown",
   "metadata": {},
   "source": [
    "この分布の正解は以下である。\n",
    "\n",
    "$$\n",
    "\\begin{align}\n",
    "\n",
    "p(x) &= 0.3 \\mathcal{N}_0(x) + 0.7 \\mathcal{N}_1(x) \\\\\n",
    "\\mathcal{N}_0 &= \\mathcal{N}(\\mu=0, \\sigma=1) \\\\\n",
    "\\mathcal{N}_1 &= \\mathcal{N}(\\mu=5, \\sigma=1) \\\\\n",
    "\n",
    "\\end{align}\n",
    "$$"
   ]
  },
  {
   "cell_type": "code",
   "execution_count": 3,
   "metadata": {},
   "outputs": [
    {
     "data": {
      "image/png": "[encoded data removed]",
      "text/plain": [
       "<Figure size 640x480 with 1 Axes>"
      ]
     },
     "metadata": {},
     "output_type": "display_data"
    }
   ],
   "source": [
    "norm = [dist.Normal(0, 1), dist.Normal(5, 1)]\n",
    "theta = 0.7\n",
    "\n",
    "pi = [1 - theta, theta]\n",
    "x_ = torch.arange(-5, 10, 0.1)\n",
    "y = torch.stack([p * n.log_prob(x_).exp() for n, p in zip(norm, pi)])\n",
    "y[1] += y[0]\n",
    "plt.plot(x_, y.T.flip(-1));"
   ]
  },
  {
   "cell_type": "markdown",
   "metadata": {},
   "source": [
    "この混合比率（7:3）を未知と仮定し、これを推定する。"
   ]
  },
  {
   "cell_type": "markdown",
   "metadata": {},
   "source": [
    "まずは比率を表すパラメータを導入しよう。$\\mathcal N_1$の割合を$\\theta$とし、以下のように表す。\n",
    "\n",
    "$$\n",
    "p(x;\\theta) = (1-\\theta) \\mathcal{N}_0(x) + \\theta \\mathcal{N}_1(x)\n",
    "$$\n",
    "\n",
    "$\\theta=0.7$が正解。これをEMアルゴリズムで推定する。\n"
   ]
  },
  {
   "cell_type": "markdown",
   "metadata": {},
   "source": [
    "EMアルゴリズムでは、まず潜在変数を導入する。混合ガウス分布では、サンプルがどのガウス分布から得られたかを表すカテゴリ変数を潜在変数とする。今回は二つのガウス分布が混ざっているので、サンプル$x^{(i)}$がそのどちらから得られたかを表す潜在変数$z^{(i)}\\in\\{0,1\\}$を導入する。すると、同時分布を以下のように定義できる。\n",
    "\n",
    "$$\n",
    "\\begin{align}\n",
    "\n",
    "p(x,z;\\theta)\n",
    "    &= p(x|z;\\theta)p(z;\\theta) \\\\\n",
    "    &= \\mathcal N_{z}(x) \\text{Bern}(z;\\theta) \\\\\n",
    "\n",
    "\\end{align}\n",
    "$$\n",
    "\n",
    "$p(z;\\theta)$はベルヌーイ分布$\\text{Bern}(z;\\theta)$で、確率$\\theta$で$z=1$となる。$p(x|z;\\theta)$は対応するガウス分布$\\mathcal N_z(x)$で、このパラメータは既知としているので$\\theta$に依らない。"
   ]
  },
  {
   "cell_type": "markdown",
   "metadata": {},
   "source": [
    "次にこの同時分布の期待値を求めよう。\n",
    "\n",
    "$$\n",
    "\\begin{align}\n",
    "\\mathcal Q(\\theta, \\theta_{old})\n",
    "    &= \\mathbb E_{p(Z|X;\\theta_{old})} [ \\, \\log p(X, Z | \\theta) \\, ] \\\\\n",
    "    &= \\mathbb E_{p(Z|X;\\theta_{old})} \\left[ \\sum_i \\log p(x^{(i)}, z^{(i)} | \\theta) \\right] \\\\\n",
    "    &= \\sum_i \\mathbb E_{p(z^{(i)}|x^{(i)};\\theta_{old})} \\left[ \\, \\log p(x^{(i)}, z^{(i)} | \\theta) \\, \\right] \\\\\n",
    "    &= \\sum_i \\mathbb E_{p(z^{(i)}|x^{(i)};\\theta_{old})} \\left[ \\, \\log \\left( \\mathcal N_{z^{(i)}}(x^{(i)})\\text{Bern}(z^{(i)} | \\theta) \\right) \\, \\right] \\\\\n",
    "    &= \\sum_i \\mathbb E_{p(z^{(i)}|x^{(i)};\\theta_{old})} \\left[ \\, \\log \\mathcal N_{z^{(i)}}(x^{(i)}) + \\log \\text{Bern}(z^{(i)} | \\theta) \\, \\right] \\\\\n",
    "    &= \\sum_i \\mathbb E_{p(z^{(i)}|x^{(i)};\\theta_{old})} [ \\, \\log \\text{Bern}(z^{(i)} | \\theta) \\, ] + \\text{const} \\\\\n",
    "\\end{align}\n",
    "$$\n",
    "\n",
    "$\\log$の中の積を和で表し、その$\\Sigma$を外に出した。$\\mathcal Q$は後程$\\theta$で偏微分するため、$\\theta$に関係のないガウス分布の項は定数として無視する。"
   ]
  },
  {
   "cell_type": "markdown",
   "metadata": {},
   "source": [
    "引き続き変形していく。$\\Sigma$の中を計算する。\n",
    "\n",
    "$$\n",
    "\\begin{align}\n",
    "\\mathbb E_{p(z^{(i)}|x^{(i)};\\theta_{old})}\\Big[\\log\\text{Ber}(z^{(i)}|\\theta)\\Big]\n",
    "    &= \\sum_{z^{(i)}}p(z^{(i)}|x^{(i)};\\theta_{old})\\log\\text{Ber}(z^{(i)}|\\theta) \\\\\n",
    "    &= p(0|x^{(i)};\\theta_{old})\\log\\text{Ber}(0|\\theta) + p(1|x^{(i)};\\theta_{old})\\log\\text{Ber}(1|\\theta) \\\\\n",
    "    &= r_0^{(i)}\\log(1-\\theta) + r_1^{(i)}\\log(\\theta)\n",
    "\\end{align}\n",
    "$$\n",
    "\n",
    "$p(k|x^{(i)};\\theta_{old})$は$r_k^{(i)}$と表した。これは負担率とも呼ばれる。\n"
   ]
  },
  {
   "cell_type": "markdown",
   "metadata": {},
   "source": [
    "負担率$r_k^{(i)}$は、$x^{(i)}$が得られた下で$z^{(i)}=k$となる事後確率と同義。ベイズの定理によって求められる。\n",
    "\n",
    "$$\n",
    "\\begin{align}\n",
    "r_k^{(i)}\n",
    "    &= p(k|x^{(i)};\\theta_{old}) \\\\\n",
    "    &= \\frac{p(x^{(i)}|k)p(k;\\theta_{old})}{\\sum_{k'}p(x^{(i)}|k')p(k';\\theta_{old})} \\\\\n",
    "    &= \\frac{\\mathcal N_k(x^{(i)})\\mathrm{Ber}(k;\\theta_{old})}{\\sum_{k'=0}^1\\mathcal N_{k'}(x^{(i)})\\mathrm{Ber}(k';\\theta_{old})}\n",
    "\\end{align}\n",
    "$$\n"
   ]
  },
  {
   "cell_type": "markdown",
   "metadata": {},
   "source": [
    "では、$\\mathcal Q$を$\\theta$で偏微分していく。\n",
    "\n",
    "$$\n",
    "\\begin{align}\n",
    "\\frac{\\partial\\mathcal Q}{\\partial\\theta}\n",
    "    &= \\frac{\\partial}{\\partial\\theta}\\sum_i\\big(r_0^{(i)}\\log(1-\\theta) + r_1^{(i)}\\log(\\theta)\\big) \\\\\n",
    "    &= \\sum_i\\frac{\\partial}{\\partial\\theta}\\big(r_0^{(i)}\\log(1-\\theta)\\big) + \\sum_i\\frac{\\partial}{\\partial\\theta}\\big(r_1^{(i)}\\log(\\theta)\\big) \\\\\n",
    "    &= \\sum_i\\frac{r_1^{(i)}}{\\theta} - \\sum_i\\frac{r_0^{(i)}}{1-\\theta} \\\\\n",
    "\\end{align}\n",
    "$$\n",
    "\n",
    "これが 0 になるときの$\\theta$を計算すると、以下となる。\n",
    "\n",
    "$$\n",
    "\\theta = \\frac{\\sum_i r_1^{(i)}}{\\sum_i r_0^{(i)} + \\sum_i r_1^{(i)}}\n",
    "$$\n"
   ]
  },
  {
   "cell_type": "markdown",
   "metadata": {},
   "source": [
    "ということで、ある$\\theta$の下で対数尤度を大きくする新たな$\\theta$が求められるようになった。  \n",
    "この更新を繰り返す事で、対数尤度を最大にする$\\theta$が近似できる。\n"
   ]
  },
  {
   "cell_type": "markdown",
   "metadata": {},
   "source": [
    "実装してみよう。\n",
    "\n",
    "まず$\\theta$を初期化する。ランダムで。"
   ]
  },
  {
   "cell_type": "code",
   "execution_count": 4,
   "metadata": {},
   "outputs": [
    {
     "data": {
      "text/plain": [
       "0.23821156706414648"
      ]
     },
     "execution_count": 4,
     "metadata": {},
     "output_type": "execute_result"
    }
   ],
   "source": [
    "theta = random.random()\n",
    "theta"
   ]
  },
  {
   "cell_type": "markdown",
   "metadata": {},
   "source": [
    "次に$\\theta$の更新式を書く。ある$\\theta$を受け取って、より対数尤度が大きくなる新たな$\\theta$を返す関数を書く。\n"
   ]
  },
  {
   "cell_type": "code",
   "execution_count": 5,
   "metadata": {},
   "outputs": [],
   "source": [
    "def return_new_theta(theta, X):\n",
    "    # 事後分布の尤度\n",
    "    j0 = (1 - theta) * norm0.log_prob(X).exp()  # p(0|x;theta)\n",
    "    j1 = theta * norm1.log_prob(X).exp()  # p(1|x;theta)\n",
    "\n",
    "    # 負担率の和\n",
    "    r0 = (j0 / (j1 + j0)).sum()  # sum_i r^i_0\n",
    "    r1 = (j1 / (j1 + j0)).sum()  # sum_i r^i_1\n",
    "\n",
    "    return (r1 / (r1 + r0)).item()"
   ]
  },
  {
   "cell_type": "markdown",
   "metadata": {},
   "source": [
    "では、何回か更新をしてみる\n"
   ]
  },
  {
   "cell_type": "code",
   "execution_count": 6,
   "metadata": {},
   "outputs": [
    {
     "name": "stdout",
     "output_type": "stream",
     "text": [
      "0.23821156706414648\n",
      "0.6870362758636475\n",
      "0.697598934173584\n",
      "0.6978197693824768\n",
      "0.6978243589401245\n",
      "0.6978245377540588\n",
      "0.6978245377540588\n",
      "0.6978245377540588\n",
      "0.6978245377540588\n",
      "0.6978245377540588\n"
     ]
    }
   ],
   "source": [
    "for _ in range(10):\n",
    "    print(theta)\n",
    "    theta = return_new_theta(theta, x)"
   ]
  },
  {
   "cell_type": "markdown",
   "metadata": {},
   "source": [
    "正解である$\\theta=0.7$に近づいた。\n"
   ]
  },
  {
   "attachments": {},
   "cell_type": "markdown",
   "metadata": {},
   "source": [
    "\n",
    "---\n",
    "\n",
    "## 混合ガウス分布\n",
    "\n",
    "GMM: *Gaussian Mixture Model*\n",
    "\n",
    "割合だけでなく、各ガウス分布の平均と分散も推定する。また多変量ガウス分布に拡張する。"
   ]
  },
  {
   "cell_type": "markdown",
   "metadata": {},
   "source": [
    "例えば、以下のようなサンプルが得られたとする。"
   ]
  },
  {
   "cell_type": "code",
   "execution_count": 7,
   "metadata": {},
   "outputs": [],
   "source": [
    "from sklearn.datasets import make_blobs"
   ]
  },
  {
   "cell_type": "code",
   "execution_count": 8,
   "metadata": {},
   "outputs": [
    {
     "data": {
      "image/png": "[encoded data removed]",
      "text/plain": [
       "<Figure size 640x480 with 1 Axes>"
      ]
     },
     "metadata": {},
     "output_type": "display_data"
    }
   ],
   "source": [
    "X, y = make_blobs(\n",
    "    n_samples=500,\n",
    "    n_features=2,\n",
    "    centers=3,\n",
    "    cluster_std=1.5,\n",
    ")\n",
    "plt.scatter(X[:, 0], X[:, 1], c=y);"
   ]
  },
  {
   "cell_type": "markdown",
   "metadata": {},
   "source": [
    "ここから、各ガウス分布の平均、共分散行列、混合比率を推定する。クラスタ数だけは仮定する必要がある。"
   ]
  },
  {
   "cell_type": "markdown",
   "metadata": {},
   "source": [
    "### 理論\n",
    "\n",
    "まず、モデル化していく。\n",
    "\n",
    "$$\n",
    "p(\\boldsymbol x;\\theta) = \\sum_{k=1}^K \\pi_k \\mathcal N_k(\\boldsymbol x)\n",
    "$$\n",
    "\n",
    "多変量なので、$\\boldsymbol x$はベクトル。$K$はクラスタ数。  \n",
    "$\\mathcal N_k(\\boldsymbol x)$は$k$番目のガウス分布。$\\pi_k$は$k$番目のガウス分布の混合比率で、推定したいパラメータの一つ。比率$\\pi_k$の総和は1でないといけない。\n",
    "\n",
    "$$\n",
    "\\sum_{k=1}^K \\pi_k = 1\n",
    "$$"
   ]
  },
  {
   "cell_type": "code",
   "execution_count": null,
   "metadata": {},
   "outputs": [],
   "source": []
  },
  {
   "cell_type": "markdown",
   "metadata": {},
   "source": [
    "では、今度はこれらの仮定を同時分布として表そう。\n",
    "\n",
    "$$\n",
    "\\begin{align}\n",
    "\\log p(X,Z|\\theta)\n",
    "    &= \\log  p(X|Z)p(Z|\\theta) \\\\\n",
    "    &= \\log  \\prod_{i=1}^n p(x_i|z_i)p(z_i|\\theta) \\\\\n",
    "    &= \\log  \\sum_i\n",
    "    &= \\log  \\prod_{i=1}^n \\sum\n",
    "    \\mathcal N_{z_i}(x_i)\\mathrm{Ber}(z_i|\\theta)\n",
    "\n",
    "\\end{align}\n",
    "$$\n"
   ]
  },
  {
   "cell_type": "markdown",
   "metadata": {},
   "source": [
    "$$\n",
    "\\begin{align}\n",
    "p(X,Z|\\theta) \n",
    "    &= p(X|Z)p(Z|\\theta) \\\\\n",
    "    &= \\prod_{i=1}^n p(x_i|z_i)p(z_i|\\theta) \\\\\n",
    "    \n",
    "\n",
    "$$"
   ]
  },
  {
   "cell_type": "markdown",
   "metadata": {},
   "source": [
    "次にこの同時分布の期待値を求めよう。\n",
    "\n",
    "$$\n",
    "\\begin{align}\n",
    "\\mathcal Q(\\theta, \\theta_{old})\n",
    "    &= \\mathbb E_{p(Z|X;\\theta_{old})}\\big[\\log p(X,Z|\\theta)\\big] \\\\\n",
    "    &= \\mathbb E_{p(Z|X;\\theta_{old})}\\Big[\\log\\prod_i\\mathcal N_{z^{(i)}}(x^{(i)})\\text{Ber}(z^{(i)}|\\theta)\\Big] \\\\\n",
    "    &= \\sum_i \\mathbb E_{p(z^{(i)}|x^{(i)};\\theta_{old})}\\Big[\\log \\text{Ber}(z^{(i)}|\\theta)\\Big] + \\text{const} \\\\\n",
    "\\end{align}\n",
    "$$\n",
    "\n",
    "$\\log$の中の積を和で表し、その$\\Sigma$を外に出した。  \n",
    "$\\mathcal Q$は後程$\\theta$で偏微分するため、$\\theta$に関係のないガウス分布の項は定数として無視する。\n"
   ]
  },
  {
   "cell_type": "code",
   "execution_count": null,
   "metadata": {},
   "outputs": [],
   "source": []
  },
  {
   "cell_type": "code",
   "execution_count": null,
   "metadata": {},
   "outputs": [],
   "source": [
    "class GaussianMixture:\n",
    "    def __init__(self, n_components, max_iter=100):\n",
    "        self.n_components = n_components\n",
    "        self.max_iter = max_iter\n",
    "        self.pi = None\n",
    "        self.mu = None\n",
    "        self.sigma = None\n",
    "\n",
    "    def fit(self, X):\n",
    "        N, n_features = X.shape\n",
    "        self.pi = np.ones(n_features) / self.n_components\n",
    "        self.mu = np.random.randn(self.n_components, n_features)\n",
    "        self.sigma = np.random.randn(self.n_components, n_features, n_features)\n",
    "\n",
    "        for _ in range(self.max_iter):\n",
    "            r = get_r()\n",
    "\n",
    "\n",
    "    def pdf(self, x):\n",
    "        pass\n",
    "\n",
    "    # def "
   ]
  },
  {
   "cell_type": "code",
   "execution_count": null,
   "metadata": {},
   "outputs": [],
   "source": []
  }
 ],
 "metadata": {
  "kernelspec": {
   "display_name": "dl",
   "language": "python",
   "name": "python3"
  },
  "language_info": {
   "codemirror_mode": {
    "name": "ipython",
    "version": 3
   },
   "file_extension": ".py",
   "mimetype": "text/x-python",
   "name": "python",
   "nbconvert_exporter": "python",
   "pygments_lexer": "ipython3",
   "version": "3.11.4"
  },
  "orig_nbformat": 4
 },
 "nbformat": 4,
 "nbformat_minor": 2
}
