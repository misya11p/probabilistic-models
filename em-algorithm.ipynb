{
 "cells": [
  {
   "attachments": {},
   "cell_type": "markdown",
   "metadata": {},
   "source": [
    "# EMアルゴリズム\n",
    "\n",
    "点推定を数値的に行う手法。ここでは特に最尤推定に着目する。"
   ]
  },
  {
   "cell_type": "markdown",
   "metadata": {},
   "source": [
    "本資料は私が作成した下記資料を元に作られました。\n",
    "\n",
    "https://gaussian-mixture.vercel.app"
   ]
  },
  {
   "cell_type": "code",
   "execution_count": 1,
   "metadata": {},
   "outputs": [],
   "source": [
    "import numpy as np\n",
    "import scipy as sp\n",
    "import matplotlib.pyplot as plt\n",
    "plt.style.use(\"ggplot\")"
   ]
  },
  {
   "attachments": {},
   "cell_type": "markdown",
   "metadata": {},
   "source": [
    "\n",
    "---\n",
    "\n",
    "## 潜在変数\n",
    "\n",
    "観測データの裏に潜む、データをよく表した**観測できない**変数。"
   ]
  },
  {
   "cell_type": "markdown",
   "metadata": {},
   "source": [
    "観測データの分布が複雑な時は、潜在変数を導入することで計算が簡単になる場合が多い。\n",
    "\n",
    "潜在変数の導入とは、観測されたデータ$X=\\{x^{(1)}, x^{(2)}, \\cdots, x^{(N)}\\}$の裏に潜在変数$Z=\\{z^{(1)}, z^{(2)}, \\cdots, z^{(N)}\\}$が存在すると仮定し、それをモデル化すること。$x$に影響を与える何らかの確率変数を考え、それがどのように観測データに作用するかをモデル化するということ。"
   ]
  },
  {
   "cell_type": "markdown",
   "metadata": {},
   "source": [
    "潜在変数の導入を数学的に表現すると、それは観測データと潜在変数の同時分布を定めることになる。\n",
    "\n",
    "$$\n",
    "p(x,z) = p(x|z)p(z)\n",
    "$$\n",
    "\n",
    "潜在変数の分布$p(z)$と、それがデータ$x$にどう作用するかを表す条件付き分布$p(x|z)$を定めている。ベイズ的に言うなら事前分布と尤度関数。"
   ]
  },
  {
   "cell_type": "markdown",
   "metadata": {},
   "source": [
    "潜在変数を導入し、尤度を以下のように周辺化して表す。\n",
    "\n",
    "$$\n",
    "\\begin{align}\n",
    "\n",
    "p(x;\\theta)\n",
    "    &= \\sum_z p(x,z;\\theta) \\\\\n",
    "    &= \\sum_z p(x|z;\\theta)p(z;\\theta)\n",
    "\n",
    "\\end{align}\n",
    "$$"
   ]
  },
  {
   "attachments": {},
   "cell_type": "markdown",
   "metadata": {},
   "source": [
    "\n",
    "---\n",
    "\n",
    "## EMアルゴリズム\n",
    "\n",
    "EMアルゴリズムの計算方法を見ていく。"
   ]
  },
  {
   "attachments": {},
   "cell_type": "markdown",
   "metadata": {},
   "source": [
    "まず対数尤度関数を考える。\n",
    "\n",
    "$$\n",
    "\\begin{align}\n",
    "    \\log p(X;\\theta)\n",
    "        &= \\log \\prod_{i=1}^n p(x^{(i)};\\theta) \\\\\n",
    "        &= \\sum_{i=1}^n \\log p(x^{(i)};\\theta) \\\\\n",
    "\\end{align}\n",
    "$$\n",
    "\n",
    "尤度$p(x^{(i)};\\theta)$が複雑で、このまま進めても解が求められない場合を考えていく。"
   ]
  },
  {
   "attachments": {},
   "cell_type": "markdown",
   "metadata": {},
   "source": [
    "ここで潜在変数を導入する。\n",
    "\n",
    "$$\n",
    "p(X;\\theta) = \\sum_Z p(X,Z;\\theta)\n",
    "$$\n"
   ]
  },
  {
   "attachments": {},
   "cell_type": "markdown",
   "metadata": {},
   "source": [
    "では、この下で対数尤度を見ていく。\n",
    "\n",
    "$$\n",
    "\\begin{align}\n",
    "\\log p(X;\\theta)\n",
    "    &= \\log \\sum_Z p(X,Z;\\theta) \\\\\n",
    "    &= \\log \\sum_Z q(Z) \\frac{p(X,Z;\\theta)}{q(Z)} \\\\\n",
    "    &\\ge \\sum_Z q(Z) \\log \\frac{p(X,Z;\\theta)}{q(Z)} \\\\\n",
    "    &= \\mathcal{L}(q(Z),\\theta)\n",
    "\\end{align}\n",
    "$$\n",
    "\n",
    "途中の不等式は**イェンゼンの不等式**というもの。$q(Z)$はイェンゼンの不等式を使うために適当に持ち出したなんらかの確率分布。現時点では明確になっていない。  \n",
    "\n",
    "最後に出てきた式は下界と呼び、$\\mathcal{L}(q(Z),\\theta)$と置いた。エビデンス（対数尤度）の下界ということで、ELBO（Evidence lower bound）とも呼ぶ。変分ベイズでも出てくるので、変分下界（Variational Lower Bound）とも呼ぶ。"
   ]
  },
  {
   "attachments": {},
   "cell_type": "markdown",
   "metadata": {},
   "source": [
    "ここで、対数尤度関数と下限の差を求めると\n",
    "\n",
    "$$\n",
    "\\begin{align}\n",
    "\n",
    "& \\log p(X; \\theta) - \\mathcal{L}(q(Z), \\theta) \\\\\n",
    "\n",
    "&\\quad = \\log p(X; \\theta) - \\sum_Z q(Z) \\log \\frac{p(X, Z; \\theta)}{q(Z)} \\\\\n",
    "\n",
    "&\\quad = \\sum_Z q(Z)\\log p(X; \\theta) - \\sum_Z q(Z) \\log \\frac{p(X| Z; \\theta)p(Z; \\theta)}{q(Z)} \\\\\n",
    "\n",
    "&\\quad = \\sum_Z q(Z) \\Big( \\log p(X; \\theta) - \\log p(X| Z; \\theta) - \\log p(Z; \\theta) + \\log q(Z) \\Big) \\\\\n",
    "\n",
    "&\\quad = \\sum_Z q(Z) \\Big( -\\log \\frac{p(X| Z; \\theta)p(Z; \\theta)}{p(X; \\theta)} + \\log q(Z) \\Big) \\\\\n",
    "\n",
    "&\\quad = \\sum_Z q(Z) \\Big( -\\log p(Z| X; \\theta) + \\log q(Z) \\Big) \\\\\n",
    "\n",
    "&\\quad = \\sum_Z q(Z) \\Big( \\log \\frac{q(Z)}{p(Z| X; \\theta)} \\Big) \\\\\n",
    "\n",
    "&\\quad = D_{KL}[q(Z) || p(Z| X; \\theta)] \n",
    "\n",
    "\\end{align}\n",
    "$$\n",
    "\n",
    "$q(Z)$と$p(Z|X,\\theta)$の KL ダイバージェンスになる。KLダイバージェンスは二つの確率分布の近さを表す指標として知られる。"
   ]
  },
  {
   "cell_type": "markdown",
   "metadata": {},
   "source": [
    "これを以下のようにまとめる。 \n",
    "\n",
    "$$\n",
    "\\begin{align}\n",
    "\n",
    "\\log p(X; \\theta) = \\mathcal{L}(q(Z), \\theta) + D_{KL}[q(Z) || p(Z| X; \\theta)]\n",
    "\n",
    "\\end{align}\n",
    "$$\n",
    "\n",
    "対数尤度をKLダイバージェンスと下界の和で表すことが出来た。\n",
    "\n",
    "我々はこれを最大化したい。ここで思いつくのは、下界とKLダイバージェンスを別々に最大化する方法である。そうすれば対数尤度も大きくなりそう。しかし、このやり方は上手くいかない。"
   ]
  },
  {
   "cell_type": "markdown",
   "metadata": {},
   "source": [
    "真っ先に思いつくのは、下限と KL ダイバージェンスを別々に最大化する方法である。そうすれば対数尤度も大きくなりそう。しかし、このやり方は上手くいかない。なぜかな。\n",
    "\n",
    "まず、我々が自由に操作できる変数は以下の二つである。\n",
    "\n",
    "- $\\theta$\n",
    "- $q(Z)$\n",
    "\n",
    "この二つの変数を対数尤度が最大になるように設定したい訳だが、実は対数尤度は$q(Z)$に依存しない。したがって、$q(Z)$をいじった時に変わるものは対数尤度ではなく、下限と KL ダイバージェンスの比率である。どちらかを大きくする$q(Z)$は、もう一方を小さくする$q(Z)$となる。\n"
   ]
  },
  {
   "cell_type": "markdown",
   "metadata": {},
   "source": [
    "ではどうすべきか。正解は以下。\n",
    "\n",
    "1. $\\theta$を初期化する。\n",
    "2. $\\theta$を固定し、KL ダイバージェンスを最小化する。\n",
    "3. $q(Z)$を固定し、下限を最大化する。\n",
    "4. 2, 3 を繰り返す。\n"
   ]
  },
  {
   "cell_type": "markdown",
   "metadata": {},
   "source": [
    "まずは$\\theta$の初期化だがこれは何でもよい。とりあえず$\\theta^{\\text{old}}$と表記しておく。\n",
    "\n",
    "次に、その$\\theta^{\\text{old}}$の下でKLダイバージェンスを最小化する。つまり$D_{KL}[q(Z) || p(Z| X; \\theta^{\\text{old}})]=0$となる$q(Z)$を求める。 ここで、KLダイバージェンスは二つの確率分布が完全に一致する際に唯一の0をとる。ということで、$q(Z) = p(Z| X; \\theta^{\\text{old}})$とする。"
   ]
  },
  {
   "cell_type": "markdown",
   "metadata": {},
   "source": [
    "では今度はその$q(Z)$を固定して下限を最大化する。つまり以下を行う。\n",
    "\n",
    "$$\n",
    "\\begin{align}\n",
    "\n",
    "\\theta^{\\text{new}} = \\argmax_\\theta \\mathcal{L}(p(Z| X; \\theta^{\\text{old}}), \\theta)\n",
    "\n",
    "\\end{align}\n",
    "$$\n",
    "\n",
    "ここで下限を少し整理する。\n",
    "\n",
    "$$\n",
    "\\begin{align}\n",
    "\n",
    "\\mathcal L (p(Z| X; \\theta^{\\text{old}}),\\theta)\n",
    "\n",
    "&= \\sum_Z p(Z| X; \\theta^{\\text{old}}) \\log \\frac{p(X, Z; \\theta)}{p(Z| X; \\theta^{\\text{old}})} \\\\\n",
    "\n",
    "&= \\sum_Z p(Z|X;\\theta^{old}) \\log p(X, Z; \\theta) + \\mathrm{const} \\\\\n",
    "\n",
    "&= \\mathbb E_{p(Z| X; \\theta^{\\text{old}})} \\big[ \\log p(X, Z; \\theta) \\big] + \\mathrm{const} \\\\\n",
    "\n",
    "&= \\mathcal Q (\\theta| \\theta^{\\text{old}}) + \\mathrm{const}\n",
    "\n",
    "\\end{align}\n",
    "$$\n",
    "\n",
    "事後分布に関する同時分布の対数尤度の期待値になった。これは$\\mathcal Q(\\theta, \\theta_{\\text{old}})$と表しておく。この期待値を最大にする$\\theta$を求め、それを新たな$\\theta$とする。この期待値はsum-logの形になっており、解析的に解きやすい。\n",
    "\n",
    "\\begin{align}\n",
    "\n",
    "\\theta^{\\text{new}} = \\argmax_{\\theta} \\mathcal Q(\\theta, \\theta^{\\text{old}})\n",
    "\n",
    "\\end{align}\n"
   ]
  },
  {
   "cell_type": "markdown",
   "metadata": {},
   "source": [
    "そして$\\theta^{\\text{old}} := \\theta^{\\text{new}}$として、同じように期待値を最大化する。これを繰り返すことで、対数尤度を大きくすることができる。\n",
    "\n",
    "ということで、EMアルゴリズムの流れは以下。\n",
    "\n",
    "1. 潜在変数の導入\n",
    "2. パラメータ$\\theta^{\\text{old}}$の初期化\n",
    "3. 同時分布の期待値の最大化:\n",
    "    - $\\theta^{\\text{new}} \\larr \\argmax_\\theta \\mathcal Q(\\theta|\\theta^{\\text{old}})$\n",
    "    - $\\theta^{\\text{old}} \\larr \\theta^{\\text{new}}$\n",
    "4. 3を繰り返す\n",
    "\n",
    "期待値（*Expected value*）の最大化（*Maximization*）を繰り返すため、EM アルゴリズムと呼ばれる。また、数学的には期待値を求めるステップと最大化のステップに分けられ、それぞれEステップ・Mステップと呼ばれたりする。"
   ]
  },
  {
   "cell_type": "markdown",
   "metadata": {},
   "source": [
    "### 対数尤度が単調増加することの証明\n",
    "\n",
    "以下を示す。\n",
    "\n",
    "$$\n",
    "\\begin{align}\n",
    "\n",
    "\\log p(X; \\theta^{\\text{new}}) \\geq \\log p(X; \\theta^{\\text{old}})\n",
    "\n",
    "\\end{align}\n",
    "$$"
   ]
  },
  {
   "cell_type": "markdown",
   "metadata": {},
   "source": [
    "$q(Z) = p(Z| X; \\theta)$であるとき、対数尤度と下界は一致する。よって\n",
    "\n",
    "$$\n",
    "\\begin{align}\n",
    "\n",
    "\\log p(X; \\theta^{\\text{old}}) = \\mathcal{L}(p(Z| X; \\theta^{\\text{old}}), \\theta^{\\text{old}})\n",
    "\n",
    "\\end{align}\n",
    "$$\n",
    "\n",
    "ここで、\n",
    "\n",
    "$$\n",
    "\\begin{align}\n",
    "\n",
    "\\theta^{\\text{new}} = \\argmax_\\theta \\mathcal{L}(p(Z| X; \\theta^{\\text{old}}), \\theta)\n",
    "\n",
    "\\end{align}\n",
    "$$\n",
    "\n",
    "より、\n",
    "\n",
    "$$\n",
    "\\begin{align}\n",
    "\n",
    "\\mathcal{L}(p(Z| X; \\theta^{\\text{old}}), \\theta^{\\text{new}}) \\geq \\mathcal{L}(p(Z| X; \\theta^{\\text{old}}), \\theta^{\\text{old}})\n",
    "\n",
    "\\end{align}\n",
    "$$\n",
    "\n",
    "が成り立つ。"
   ]
  },
  {
   "cell_type": "markdown",
   "metadata": {},
   "source": [
    "が成り立つ。また、任意の$q(Z)$で\n",
    "\n",
    "$$\n",
    "\\begin{align}\n",
    "\n",
    "\\log p(X; \\theta) \\geq \\mathcal{L}(p(Z), \\theta)\n",
    "\n",
    "\\end{align}\n",
    "$$\n",
    "\n",
    "が成り立つので、\n",
    "\n",
    "$$\n",
    "\\begin{align}\n",
    "\n",
    "\\log p(X; \\theta^{\\text{new}}) \\geq \\mathcal{L}(p(Z| X; \\theta^{\\text{old}}), \\theta^{\\text{new}})\n",
    "\n",
    "\\end{align}\n",
    "$$\n",
    "\n",
    "が成り立つ。よって\n",
    "\n",
    "$$\n",
    "\\begin{align}\n",
    "\n",
    "\\log p(X; \\theta^{\\text{new}}) \n",
    "\n",
    "&\\geq \\mathcal{L}(p(Z| X; \\theta^{\\text{old}}), \\theta^{\\text{new}}) \\\\\n",
    "\n",
    "&\\geq \\mathcal{L}(p(Z| X; \\theta^{\\text{old}}), \\theta^{\\text{old}}) \\\\\n",
    "\n",
    "&= \\log p(X; \\theta^{\\text{old}})\n",
    "\n",
    "\\end{align}\n",
    "$$\n",
    "\n",
    "が成り立つ。証明終わり。"
   ]
  },
  {
   "cell_type": "markdown",
   "metadata": {},
   "source": [
    "なお、ここで示したのは対数尤度が単調増加することで、パラメータが最適解に収束することではない。いわゆる局所解に陥るといった状況はEMアルゴリズムでも起こり得るので、初期値依存の手法ではある。"
   ]
  },
  {
   "attachments": {},
   "cell_type": "markdown",
   "metadata": {},
   "source": [
    "\n",
    "---\n",
    "\n",
    "## 混合ガウス分布\n",
    "\n",
    "*Gaussian Mixture*\n",
    "\n",
    "複数のガウス分布を足し合わせた分布。多峰性が見られる分布に適用する。この分布の最尤推定にEMアルゴリズムが適用できるので、実際にやってみる。\n",
    "\n",
    "$$\n",
    "\\begin{align}\n",
    "\n",
    "p(x; \\theta) = \\sum_{k=1}^K \\pi_k \\mathcal N_k(x)\n",
    "\n",
    "\\end{align}\n",
    "$$\n",
    "\n",
    "- $\\mathcal N_k (x) = \\mathcal N( x; \\mu_k, \\sigma_k^2)$\n",
    "- $\\pi_k\\in[0,1] \\quad \\sum_k \\pi_k = 1$\n",
    "\n",
    "$K$個のガウス分布$\\mathcal N_1, \\mathcal N_2, \\cdots, \\mathcal N_K$と混合比率$\\pi_1, \\pi_2, \\cdots, \\pi_K$の重み付き和で表される。\n",
    "\n",
    "各ガウス分布のパラメータ$\\mu_k,\\sigma_k^2$と混合比率$\\pi_k$がパラメータとなる。"
   ]
  },
  {
   "cell_type": "markdown",
   "metadata": {},
   "source": [
    "この分布の対数尤度は以下。\n",
    "\n",
    "$$\n",
    "\n",
    "\\begin{align}\n",
    "\n",
    "\\log p(x; \\theta) = \\log \\left( \\sum_{k=1}^K \\pi_k \\mathcal N_k(x) \\right)\n",
    "\n",
    "\\end{align}\n",
    "\n",
    "$$\n",
    "\n",
    "log-sumと呼ばれる$\\log$の中に$\\sum$が入る形になった。この形は非常に厄介で、解析的に解を得られないことが知られている。ということで、普通には解けないので、EMアルゴリズムで数値的に解く。"
   ]
  },
  {
   "cell_type": "markdown",
   "metadata": {},
   "source": [
    "### 潜在変数\n",
    "\n",
    "潜在変数として、サンプル$x^{(n)}$がどのガウス分布から生成されたかを表す$z^{(n)}\\in\\{1,2,\\cdots,K\\}$を導入する。\n",
    "\n",
    "こうすると、事前分布はクラス数$K$個のカテゴリカル分布となる。\n",
    "\n",
    "$$\n",
    "\\begin{align}\n",
    "\n",
    "p(z = k) = \\pi_k\n",
    "\n",
    "\\end{align}\n",
    "$$"
   ]
  },
  {
   "cell_type": "markdown",
   "metadata": {},
   "source": [
    "次に尤度関数だが、各クラスに対応するガウス分布となる。\n",
    "\n",
    "$$\n",
    "\\begin{align}\n",
    "\n",
    "p(x| z = k; \\theta)\n",
    "\n",
    "&= \\mathcal N_k(x)\n",
    "\n",
    "\\end{align}\n",
    "$$"
   ]
  },
  {
   "cell_type": "markdown",
   "metadata": {},
   "source": [
    "てことで、同時分布は以下。\n",
    "\n",
    "$$\n",
    "\\begin{align}\n",
    "\n",
    "p(x, z = k; \\theta)\n",
    "  &= p(x| z = k; \\theta)p(z = k; \\theta) \\\\\n",
    "  &= \\mathcal N_{k}(x) \\pi_k\n",
    "\\end{align}\n",
    "$$\n",
    "\n",
    "これを周辺化すると、元の分布と一致するね。\n",
    "\n",
    "$$\n",
    "\\begin{align}\n",
    "\n",
    "\\sum_{z=1}^K p(x, z; \\theta) = \\sum_{k=1}^K \\pi_k \\mathcal N_k(x)\n",
    "\n",
    "\\end{align}\n",
    "$$"
   ]
  },
  {
   "cell_type": "markdown",
   "metadata": {},
   "source": [
    "### Eステップ\n",
    "\n",
    "同時分布の期待値を求める。"
   ]
  },
  {
   "cell_type": "markdown",
   "metadata": {},
   "source": [
    "$$\n",
    "\\begin{align}\n",
    "\n",
    "\\mathcal Q(\\theta, \\theta^{\\text{old}})\n",
    "\n",
    "&= \\mathbb E_{p(Z|X;\\theta^{\\text{old}})} [ \\, \\log p(X, Z; \\theta) \\, ] \\\\\n",
    "\n",
    "&= \\mathbb E_{p(Z|X;\\theta^{\\text{old}})} \\left[ \\sum_i \\log p(x^{(i)}, z^{(i)}; \\theta) \\right] \\\\\n",
    "\n",
    "&= \\sum_i \\mathbb E_{p(z| x^{(i)}; \\theta^{\\text{old}})} \\left[ \\, \\log p(x^{(i)}, z; \\theta) \\, \\right] \\\\\n",
    "\n",
    "&= \\sum_i \\mathbb E_{p(z| x^{(i)}; \\theta^{\\text{old}})} \\left[ \\, \\log \\mathcal N_z (x^{(i)}) + \\log \\pi_z \\, \\right] \\\\\n",
    "\n",
    "&= \\sum_i \\sum_k p(z=k| x^{(i)}; \\theta^{\\text{old}}) \\left( \\log \\mathcal N_k(x^{(i)}) + \\log \\pi_k \\right) \\\\\n",
    "\n",
    "&= \\sum_i \\sum_k \\gamma_k^{(i)} \\left( \\log \\mathcal N(\\boldsymbol x^{(i)}; \\boldsymbol\\mu_k, \\Sigma_k) + \\log \\pi_k \\right) \\\\\n",
    "\n",
    "&= \\sum_i \\sum_k \\gamma_k^{(i)} \\left( -\\frac{1}{2} \\Big( d \\log(2\\pi) + \\log |\\Sigma|_k + (\\boldsymbol x^{(i)} - \\boldsymbol\\mu_k)^T \\Sigma_k^{-1} (\\boldsymbol x^{(i)} - \\boldsymbol\\mu_k) \\Big) + \\log \\pi_k \\right) \\\\\n",
    "\n",
    "\\end{align}\n",
    "$$"
   ]
  },
  {
   "cell_type": "markdown",
   "metadata": {},
   "source": [
    "事後確率は$\\gamma_k^{(i)}$とおき、これは負担率と呼ぶ。\n",
    "\n",
    "$$\n",
    "\\begin{align}\n",
    "\n",
    "\\gamma_k^{(i)}\n",
    "\n",
    "&= p(z = k| x^{(i)}, \\theta^{\\text{old}}) \\\\\n",
    "\n",
    "&= \\frac{p(x^{(i)}| z = k; \\theta^{\\text{old}})p(z = k; \\theta^{\\text{old}})}{p(x^{(i)}; \\theta^{\\text{old}})} \\\\\n",
    "\n",
    "&= \\frac{\\pi_k^{\\text{old}}\\mathcal N(x^{(i)}; \\mu_k^{\\text{old}}, \\Sigma_k^{\\text{old}})}{\\sum_k \\pi_k^{\\text{old}}\\mathcal N(x^{(i)}; \\mu_k^{\\text{old}}, \\Sigma_k^{\\text{old}})}\n",
    "\n",
    "\\end{align}\n",
    "$$"
   ]
  },
  {
   "cell_type": "markdown",
   "metadata": {},
   "source": [
    "### Mステップ\n",
    "\n",
    "期待値を最大化するパラメータを偏微分で求める。"
   ]
  },
  {
   "cell_type": "markdown",
   "metadata": {},
   "source": [
    "ここで、負担率の和を$N_k$とおいておく。\n",
    "\n",
    "$$\n",
    "\\begin{align}\n",
    "\n",
    "N_k = \\sum_n \\gamma_k^{(n)}\n",
    "\n",
    "\\end{align}\n",
    "$$"
   ]
  },
  {
   "cell_type": "markdown",
   "metadata": {},
   "source": [
    "#### $\\boldsymbol\\mu_k$\n",
    "\n",
    "まず$\\boldsymbol\\mu_k$。"
   ]
  },
  {
   "cell_type": "markdown",
   "metadata": {},
   "source": [
    "まず偏微分。\n",
    "\n",
    "$$\n",
    "\\begin{align}\n",
    "\n",
    "\\frac{\\partial \\mathcal Q}{\\partial \\boldsymbol\\mu_k}\n",
    "\n",
    "&= -\\frac{1}{2} \\sum_n \\gamma_k^{(n)} \\frac{\\partial}{\\partial \\boldsymbol\\mu_k}(\\boldsymbol x^{(n)} - \\boldsymbol\\mu_k)^T \\Sigma^{-1} (\\boldsymbol x^{(n)} - \\boldsymbol\\mu_k) \\\\\n",
    "\n",
    "&= - \\Sigma_k^{-1} \\sum_n \\gamma_k^{(n)} (\\boldsymbol x^{(n)} - \\boldsymbol\\mu_k)\n",
    "\n",
    "\\end{align}\n",
    "$$"
   ]
  },
  {
   "cell_type": "markdown",
   "metadata": {},
   "source": [
    "0になる点を求める。\n",
    "\n",
    "$$\n",
    "\\begin{align}\n",
    "\n",
    "- \\Sigma_k^{-1} \\sum_n \\gamma_k^{(i)} (\\boldsymbol x^{(n)} - \\boldsymbol\\mu_k) &= 0 \\\\\n",
    "\n",
    "\\frac{1}{N_k} \\sum_n \\gamma_k^{(n)} \\boldsymbol x^{(n)} &= \\boldsymbol\\mu_k \\\\\n",
    "\n",
    "\\end{align}\n",
    "$$"
   ]
  },
  {
   "cell_type": "markdown",
   "metadata": {},
   "source": [
    "#### $\\Sigma_k$\n",
    "\n",
    "次、$\\Sigma_k$。"
   ]
  },
  {
   "cell_type": "markdown",
   "metadata": {},
   "source": [
    "偏微分。\n",
    "\n",
    "$$\n",
    "\\begin{align}\n",
    "\n",
    "\\frac{\\partial \\mathcal Q}{\\partial \\Sigma_k}\n",
    "\n",
    "&= -\\frac{1}{2} \\sum_n \\gamma_k^{(n)} \\frac{\\partial}{\\partial \\Sigma_k} \\Big(\\log |\\Sigma_k| + (\\boldsymbol x^{(n)} - \\boldsymbol\\mu_k)^T \\Sigma_k^{-1} (\\boldsymbol x^{(n)} - \\boldsymbol\\mu_k) \\Big) \\\\\n",
    "\n",
    "&= -\\frac{1}{2} \\sum_n \\gamma_k^{(n)} \\Big(\\Sigma_k^{-1} - \\Sigma_k^{-1} (\\boldsymbol x^{(n)} - \\boldsymbol\\mu_k)(\\boldsymbol x^{(n)} - \\boldsymbol\\mu_k)^T\\Sigma_k^{-1}  \\Big) \\\\\n",
    "\n",
    "\\end{align}\n",
    "$$"
   ]
  },
  {
   "cell_type": "markdown",
   "metadata": {},
   "source": [
    "0になる点を求める。\n",
    "\n",
    "$$\n",
    "\\begin{align}\n",
    "\n",
    "-\\frac{1}{2} \\sum_n \\gamma_k^{(n)} \\Big( \\Sigma_k^{-1} - \\Sigma_k^{-1} (\\boldsymbol x^{(n)} - \\boldsymbol\\mu_k)(\\boldsymbol x^{(n)} - \\boldsymbol\\mu_k)^T\\Sigma_k^{-1}  \\Big) &= 0 \\\\\n",
    "\n",
    "\\frac{1}{N_k} \\sum_n r_k^{(n)} \\Sigma_k^{-1} (\\boldsymbol x^{(n)} - \\boldsymbol\\mu_k)(\\boldsymbol x^{(n)} - \\boldsymbol\\mu_k)^T\\Sigma_k^{-1} &= \\Sigma_k^{-1} \\\\\n",
    "\n",
    "\\frac{1}{N_k} \\sum_n r_k^{(n)} (\\boldsymbol x^{(n)} - \\boldsymbol\\mu_k)(\\boldsymbol x^{(n)} - \\boldsymbol\\mu_k)^T &= \\Sigma_k\n",
    "\n",
    "\\end{align}\n",
    "$$"
   ]
  },
  {
   "cell_type": "markdown",
   "metadata": {},
   "source": [
    "#### $\\pi_k$\n",
    "\n",
    "最後、$\\pi_k$。"
   ]
  },
  {
   "cell_type": "markdown",
   "metadata": {},
   "source": [
    "$\\pi_k$は他のパラメータと違い、制約条件がある。\n",
    "\n",
    "$$\n",
    "\\begin{align}\n",
    "\n",
    "g(\\pi_k) = \\sum_{k'} \\pi_{k'} - 1 = 0\n",
    "\n",
    "\\end{align}\n",
    "$$"
   ]
  },
  {
   "cell_type": "markdown",
   "metadata": {},
   "source": [
    "ラグランジュの未定乗数法を使おう。\n",
    "\n",
    "$$\n",
    "\\begin{align}\n",
    "\n",
    "\\frac{\\partial(\\mathcal Q + \\lambda g(\\pi_k))}{\\partial \\pi_k} \n",
    "\n",
    "&= -\\frac{1}{2} \\sum_n \\gamma_k^{(n)} \\frac{\\partial}{\\partial\\pi_k} \\Big( \\log \\pi_k + \\lambda \\Big( \\sum_{k'} \\pi_{k'} - 1 \\Big) \\Big) \\\\\n",
    "\n",
    "&= \\sum_n \\gamma_k^{(n)} \\Big( \\frac{1}{\\pi_k} + \\lambda \\Big)\n",
    "\n",
    "\\end{align}\n",
    "$$\n",
    "\n",
    "0になる点を求める。\n",
    "\n",
    "$$\n",
    "\\begin{align}\n",
    "\n",
    "\\sum_n \\gamma_k^{(n)} \\Big( \\frac{1}{\\pi_k} + \\lambda \\Big) &= 0 \\\\\n",
    "\n",
    "-\\sum_n \\gamma_k^{(n)} &= \\lambda\\pi_k\\\\\n",
    "\n",
    "\\end{align}\n",
    "$$"
   ]
  },
  {
   "cell_type": "markdown",
   "metadata": {},
   "source": [
    "ここで、両辺で$k$について総和を取り、\n",
    "\n",
    "$$\n",
    "\\begin{align}\n",
    "\n",
    "-\\sum_k\\sum_n \\gamma_k^{(n)}\n",
    "&= \\sum_k\\lambda\\pi_k \\\\\n",
    "-N &= \\lambda\n",
    "\n",
    "\\end{align}\n",
    "$$\n",
    "\n",
    "これを代入する\n",
    "\n",
    "$$\n",
    "\\begin{align}\n",
    "\n",
    "-\\sum_n \\gamma_k^{(n)} &= -N\\pi_k \\\\\n",
    "\n",
    "\\frac{1}{N} \\sum_n \\gamma_k^{(n)} &= \\pi_k \\\\\n",
    "\n",
    "\\end{align}\n",
    "$$\n",
    "\n",
    "これで全ての解が得られた。"
   ]
  },
  {
   "cell_type": "markdown",
   "metadata": {},
   "source": [
    "#### まとめ\n",
    "\n",
    "$$\n",
    "\\begin{align}\n",
    "\n",
    "\\boldsymbol\\mu_k &= \\frac{1}{N_k} \\sum_n \\gamma_k^{(n)} \\boldsymbol x^{(n)} \\\\\n",
    "\n",
    "\\Sigma_k &= \\frac{1}{N_k} \\sum_n \\gamma_k^{(n)} (\\boldsymbol x^{(n)} - \\boldsymbol\\mu_k)(\\boldsymbol x^{(n)} - \\boldsymbol\\mu_k)^T \\\\\n",
    "\n",
    "\\pi_k &= \\frac{N_k}{N}\n",
    "\n",
    "\\end{align}\n",
    "$$\n",
    "\n",
    "$\\boldsymbol\\mu_k, \\Sigma_k$は通常のガウス分布の最尤推定量とほぼ同じ形だが、普通の平均ではなく、負担率の加重平均になっている。"
   ]
  },
  {
   "cell_type": "markdown",
   "metadata": {},
   "source": [
    "### 実装\n",
    "\n",
    "実装してみよう。以下のデータに対して混合ガウス分布を仮定し、EMアルゴリズムでパラメータを推定する。"
   ]
  },
  {
   "cell_type": "code",
   "execution_count": 2,
   "metadata": {},
   "outputs": [
    {
     "data": {
      "image/png": "[encoded data removed]",
      "text/plain": [
       "<Figure size 640x480 with 1 Axes>"
      ]
     },
     "metadata": {},
     "output_type": "display_data"
    }
   ],
   "source": [
    "from sklearn.datasets import make_blobs\n",
    "\n",
    "N = 500\n",
    "d = 2\n",
    "K = 3\n",
    "\n",
    "X, y = make_blobs(\n",
    "    n_samples=N,\n",
    "    n_features=d,\n",
    "    centers=K,\n",
    "    cluster_std=1.5,\n",
    "    random_state=9,\n",
    ")\n",
    "plt.scatter(X[:, 0], X[:, 1]);"
   ]
  },
  {
   "cell_type": "markdown",
   "metadata": {},
   "source": [
    "まずパラメータを初期化する。ちなみに$K=3$。なんとなく峰が3つあるように見えるでしょ。実際に`K=3`としてこのサンプルデータを生成しているからね。"
   ]
  },
  {
   "cell_type": "code",
   "execution_count": 3,
   "metadata": {},
   "outputs": [
    {
     "name": "stdout",
     "output_type": "stream",
     "text": [
      "mu shape: (3, 2)\n",
      "sigma shape: (3, 2, 2)\n",
      "pi shape: (3,)\n"
     ]
    }
   ],
   "source": [
    "mu = np.random.randn(K, d)\n",
    "sigma = np.tile(np.eye(d), (K, 1, 1))\n",
    "pi = np.ones(K) / K\n",
    "print(\"mu shape:\", mu.shape) # (K, d)\n",
    "print(\"sigma shape:\", sigma.shape) # (K, d, d)\n",
    "print(\"pi shape:\", pi.shape) # (K,)"
   ]
  },
  {
   "cell_type": "markdown",
   "metadata": {},
   "source": [
    "全てのガウス分布$\\mathcal N_k$のパラメータを一つの変数にまとめた。$\\Sigma_k$は単位行列、$\\pi$は一様分布で初期化した。$\\boldsymbol\\mu_k$だけは乱数で初期化しており、こうしないと（全ての$\\boldsymbol\\mu_k$が同じ値だと）学習が上手くいかない。\n",
    "\n",
    "次は事後確率を求める。負担率$\\gamma_k^{(n)}$を求める。Eステップ。ここは繰り返すので関数にしておく。"
   ]
  },
  {
   "cell_type": "code",
   "execution_count": 4,
   "metadata": {},
   "outputs": [],
   "source": [
    "def posterior(X, mu, sigma, pi):\n",
    "    joint_probs = []\n",
    "    for mu, sigma, pi in zip(mu, sigma, pi):\n",
    "        norm = sp.stats.multivariate_normal(mean=mu, cov=sigma)\n",
    "        likelihood = norm.pdf(X)\n",
    "        joint_prob = pi * likelihood\n",
    "        joint_probs.append(joint_prob)\n",
    "    joint_probs = np.array(joint_probs)\n",
    "    gamma = joint_probs / joint_probs.sum(axis=0) # (K, N)\n",
    "    return gamma"
   ]
  },
  {
   "cell_type": "markdown",
   "metadata": {},
   "source": [
    "最後にMステップ。負担率を元にパラメータを更新する。指定した回数繰り返してみよう。"
   ]
  },
  {
   "cell_type": "code",
   "execution_count": 5,
   "metadata": {},
   "outputs": [],
   "source": [
    "n_iter = 100\n",
    "for _ in range(n_iter):\n",
    "    gamma = posterior(X, mu, sigma, pi)\n",
    "    Nk = gamma.sum(axis=1)\n",
    "\n",
    "    mu = gamma @ X / Nk.reshape(-1, 1)\n",
    "\n",
    "    for i in range(K):\n",
    "        sigma[i] = gamma[i] * (X - mu[i]).T @ (X - mu[i]) / Nk[i]\n",
    "\n",
    "    pi = Nk / N"
   ]
  },
  {
   "cell_type": "markdown",
   "metadata": {},
   "source": [
    "彫られたパラメータを元に、混合ガウス分布を描画してみる。"
   ]
  },
  {
   "cell_type": "code",
   "execution_count": 6,
   "metadata": {},
   "outputs": [
    {
     "data": {
      "image/png": "[encoded data removed]",
      "text/plain": [
       "<Figure size 640x480 with 1 Axes>"
      ]
     },
     "metadata": {},
     "output_type": "display_data"
    }
   ],
   "source": [
    "from matplotlib.patches import Ellipse\n",
    "C = 3\n",
    "fig, ax = plt.subplots()\n",
    "ax.scatter(X[:, 0], X[:, 1])\n",
    "for i in range(K):\n",
    "    U, (vx, vy), _ = np.linalg.svd(sigma[i])\n",
    "    angle = np.degrees(np.arctan2(U[0, 1], U[0, 0])) # 第一主成分軸の角度\n",
    "    for r in [0.5, 0.8, 1., 1.5, 2.]:\n",
    "        w = 2 * np.sqrt(vx) * r * pi[i] * C\n",
    "        h = 2 * np.sqrt(vy) * r * pi[i] * C\n",
    "        ellipse = Ellipse(mu[i], w, h, angle=angle, alpha=0.2)\n",
    "        ax.add_artist(ellipse)"
   ]
  },
  {
   "cell_type": "markdown",
   "metadata": {},
   "source": [
    "いい感じにフィットしている。"
   ]
  }
 ],
 "metadata": {
  "kernelspec": {
   "display_name": "dl",
   "language": "python",
   "name": "python3"
  },
  "language_info": {
   "codemirror_mode": {
    "name": "ipython",
    "version": 3
   },
   "file_extension": ".py",
   "mimetype": "text/x-python",
   "name": "python",
   "nbconvert_exporter": "python",
   "pygments_lexer": "ipython3",
   "version": "3.11.4"
  },
  "orig_nbformat": 4
 },
 "nbformat": 4,
 "nbformat_minor": 2
}
