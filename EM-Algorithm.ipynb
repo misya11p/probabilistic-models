{
 "cells": [
  {
   "attachments": {},
   "cell_type": "markdown",
   "metadata": {},
   "source": [
    "# EMアルゴリズム\n",
    "\n",
    "最尤推定またはMAP推定を数値的に行う手法。これらが解析的に行えない場合に活躍する。"
   ]
  },
  {
   "cell_type": "markdown",
   "metadata": {},
   "source": [
    "参考\n",
    "- [【徹底解説】EMアルゴリズムをはじめからていねいに | Academaid](https://academ-aid.com/ml/em)\n",
    "- [EMアルゴリズム徹底解説 - Qiita](https://qiita.com/kenmatsu4/items/59ea3e5dfa3d4c161efb)\n",
    "- [EMアルゴリズムとともだちになろう | ドクセル](https://www.docswell.com/s/mutopsy/K18DP5-2022-08-16-163818)"
   ]
  },
  {
   "cell_type": "code",
   "execution_count": null,
   "metadata": {},
   "outputs": [],
   "source": [
    "import torch\n",
    "import pyro\n",
    "import pyro.distributions as dist\n",
    "import numpy as np\n",
    "import matplotlib.pyplot as plt\n",
    "import random"
   ]
  },
  {
   "attachments": {},
   "cell_type": "markdown",
   "metadata": {},
   "source": [
    "\n",
    "---\n",
    "\n",
    "## 潜在変数\n",
    "\n",
    "データ$x$の裏に潜む、$x$をよく表した**観測できない**変数。\n",
    "\n",
    "EMアルゴリズムでは、観測されたデータ$X=(x_1, x_2, \\cdots, x_n)$に対して潜在変数$Z=(z_1, z_2, \\cdots, z_n)$を導入する。$x$に影響を与える潜在変数$z$を考え、それがどのように$x$に作用するかをモデル化するということ。なお多くの場合、潜在変数にはサンプリングが容易な確率分布が仮定できる必要がある。EMアルゴリズムも該当する。\n",
    "\n",
    "分布が複雑な時は、潜在変数を導入することで計算が簡単になる場合が多い。\n",
    "\n",
    "<br>\n",
    "\n",
    "潜在変数の導入を数学的に表現すると、それは同時分布を定めることとなる。\n",
    "\n",
    "$$\n",
    "p(x, z) = p(x|z)p(z)\n",
    "$$\n",
    "\n",
    "潜在変数の分布$p(z)$と、それがデータ$x$にどう作用するかを表す条件付き分布$p(x|z)$を定めている。"
   ]
  },
  {
   "attachments": {},
   "cell_type": "markdown",
   "metadata": {},
   "source": [
    "\n",
    "---\n",
    "\n",
    "## 理論\n",
    "\n",
    "計算方法を見ていく。"
   ]
  },
  {
   "attachments": {},
   "cell_type": "markdown",
   "metadata": {},
   "source": [
    "まず対数尤度関数を考える。\n",
    "\n",
    "$$\n",
    "\\begin{align}\n",
    "    \\log L(\\theta|X)\n",
    "        &= \\log \\prod_{i=1}^n p(x_i;\\theta) \\\\\n",
    "        &= \\sum_{i=1}^n \\log p(x_i;\\theta) \\\\\n",
    "\\end{align}\n",
    "$$\n",
    "\n",
    "尤度$p(x_i;\\theta)$が複雑で、このまま進めても解が求められない場合を考えていく。"
   ]
  },
  {
   "attachments": {},
   "cell_type": "markdown",
   "metadata": {},
   "source": [
    "ここで潜在変数を導入する。\n",
    "\n",
    "$$\n",
    "\\begin{align}\n",
    "p(x;\\theta)\n",
    "    &= \\sum_{j=1}^k p(x,z_j;\\theta) \\\\\n",
    "    &= \\sum_{z=1}^k (p(x|z_j;\\theta) p(z_j))\n",
    "\\end{align}\n",
    "$$\n",
    "\n",
    "$k$種類の離散的な潜在変数を仮定した。$p(x|z_j;\\theta)$は潜在変数$z_j$の下での$x$の分布で、$p(z_k)$は潜在変数$z_k$の分布。先で述べた通り、この二つの分布を具体的に定義することが前提となる。"
   ]
  },
  {
   "attachments": {},
   "cell_type": "markdown",
   "metadata": {},
   "source": [
    "では対数尤度を見ていく。\n",
    "\n",
    "$$\n",
    "\\begin{align}\n",
    "\\log p(X;\\theta)\n",
    "    &= \\log \\sum_Z p(X,Z;\\theta) \\\\\n",
    "    &= \\log \\sum_Z q(Z) \\frac{p(X,Z;\\theta)}{q(Z)} \\\\\n",
    "    &\\ge \\sum_Z q(Z) \\log \\frac{p(X,Z;\\theta)}{q(Z)} \\\\\n",
    "    &= \\mathcal{L}(q(Z),\\theta)\n",
    "\\end{align}\n",
    "$$\n",
    "\n",
    "途中の不等式は**イェンゼンの不等式**というもの。  \n",
    "$q(Z)$はイェンゼンの不等式を使うために適当に持ち出した確率分布。"
   ]
  },
  {
   "attachments": {},
   "cell_type": "markdown",
   "metadata": {},
   "source": [
    "ここで、対数尤度関数と下界の差を求めると\n",
    "\n",
    "$$\n",
    "\\log p(X;\\theta) - \\mathcal{L}(q(Z)|\\theta) = \\mathrm{KL}[q(Z)||p(Z|X;\\theta)]\n",
    "$$\n",
    "\n",
    "$q(Z)$と$p(Z|X,\\theta)$のKLダイバージェンスになる。途中式は省略。これを以下のようにまとめる。\n",
    "\n",
    "$$\n",
    "\\log p(X;\\theta) = \\mathrm{KL}[q(Z)||p(Z|X;\\theta)] + \\mathcal{L}(q(Z)|\\theta)\n",
    "$$\n",
    "\n",
    "対数尤度関数をKLダイバージェンスと下界の和で表すことが出来た。これを最大化することを考える。"
   ]
  },
  {
   "attachments": {},
   "cell_type": "markdown",
   "metadata": {},
   "source": [
    "まずKLダイバージェンスを0にすることを考える。そうすれば対数尤度関数が下界と一致するので、下界の最大化を考えれば良くなる。  \n",
    "KLダイバージェンスは、二つの確率分布が完全に一致する場合にのみ0をとる。ということで、さっき適当に持ち出した$q(Z)$を$p(Z|X;\\theta)$に置き換えればいい。ここの$\\theta$は適当に初期化した$\\theta_{old}$を使う。\n",
    "\n",
    "$$\n",
    "\\mathcal{L}(p(Z|X;\\theta_{old}),\\theta)\n",
    "$$\n",
    "\n",
    "これを最大化する$\\theta$を求める。で、$\\theta_{old}:=\\theta_{new}$と更新した上で同じことを繰り返す。こうすることで$\\theta$が最適な値に収束する。"
   ]
  },
  {
   "attachments": {},
   "cell_type": "markdown",
   "metadata": {},
   "source": [
    "では$\\mathcal{L}(p(Z|X;\\theta_{old}),\\theta)$を最大にする$\\theta$を求める。  \n",
    "\n",
    "$$\n",
    "\\begin{align}\n",
    "    \\mathcal{L}(p(Z|X;\\theta_{old})|\\theta)\n",
    "        &= \\sum_Z p(Z|X;\\theta_{old}) \\log \\frac{p(X,Z;\\theta)}{p(Z|X;\\theta_{old})} \\\\\n",
    "        &= \\sum_Z p(Z|X;\\theta_{old}) \\log p(X,Z;\\theta) + \\mathrm{const} \\\\\n",
    "        &= \\mathcal{Q}(\\theta|\\theta_{old}) + \\mathrm{const}\n",
    "\\end{align}\n",
    "$$\n",
    "\n",
    "$z$の事後分布の対数尤度に関する期待値になった。この期待値を求める過程を**Eステップ**と呼ぶ（期待値=*Expected Value*）。"
   ]
  },
  {
   "attachments": {},
   "cell_type": "markdown",
   "metadata": {},
   "source": [
    "次に、新たな$\\theta$として、この下界を最大にする$\\theta$を求める。\n",
    "\n",
    "$$\n",
    "\\begin{align}\n",
    "    \\theta_{new}\n",
    "        &= \\argmax_{\\theta} \\mathcal{L}(p(Z|X;\\theta_{old})|\\theta) \\\\\n",
    "        &= \\argmax_{\\theta} \\mathcal{Q}(\\theta|\\theta_{old}) \\\\\n",
    "        &= \\argmax_{\\theta} \\sum_Z p(Z|X;\\theta_{old}) \\log p(X,Z;\\theta)\n",
    "\\end{align}\n",
    "$$\n",
    "\n",
    "これは偏微分とかで求める。\n",
    "\n",
    "<br>\n",
    "\n",
    "この下界を最大化する過程を**Mステップ**と呼ぶ（最大化=*Maximum*）。\n",
    "\n",
    "EステップとMステップを繰り返すことから、EMアルゴリズムと呼ばれる。"
   ]
  },
  {
   "attachments": {},
   "cell_type": "markdown",
   "metadata": {},
   "source": [
    "\n",
    "---\n",
    "\n",
    "## 混合ガウス分布\n",
    "\n",
    "混合ガウス分布のパラメータを推定しよう．この分布は，複数のガウス分布が混ざった分布．  \n",
    "混合ガウス分布はEMアルゴリズムに必要な潜在変数を定義しやすく，EMアルゴリズムを適用しやすい．"
   ]
  },
  {
   "attachments": {},
   "cell_type": "markdown",
   "metadata": {},
   "source": [
    "### 簡単な混合ガウス分布\n",
    "\n",
    "こんな分布を考える\n",
    "\n",
    "$$\n",
    "z \\sim \\mathrm{Bernoulli}(\\theta) \\\\\n",
    "x \\sim\n",
    "\\begin{cases}\n",
    "    \\mathcal{N}(0, 1) & z = 0 \\\\\n",
    "    \\mathcal{N}(5, 1) & z = 1\n",
    "\\end{cases}\n",
    "$$"
   ]
  },
  {
   "cell_type": "code",
   "execution_count": null,
   "metadata": {},
   "outputs": [
    {
     "data": {
      "image/png": "[encoded data removed]",
      "text/plain": [
       "<Figure size 640x480 with 1 Axes>"
      ]
     },
     "metadata": {},
     "output_type": "display_data"
    }
   ],
   "source": [
    "theta = 0.7\n",
    "n = 10000\n",
    "\n",
    "ber = dist.Bernoulli(theta)\n",
    "norm0 = dist.Normal(0, 1)\n",
    "norm1 = dist.Normal(5, 1)\n",
    "def sampling(n):\n",
    "    x = []\n",
    "    for _ in range(n):\n",
    "        z = ber.sample()\n",
    "        if z == 0:\n",
    "            x.append(norm0.sample())\n",
    "        else:\n",
    "            x.append(norm1.sample())\n",
    "    return torch.tensor(x)\n",
    "\n",
    "x = sampling(n)\n",
    "plt.hist(x, bins=100, density=True);"
   ]
  },
  {
   "cell_type": "markdown",
   "metadata": {},
   "source": [
    "こんな感じの，二つの正規分布$[\\mathcal{N}(0, 1), \\mathcal{N}(5, 1)]$が混ざった分布．パラメータは二つの分布の比率（$\\mathcal{N}(5, 1)$の割合）を表す$\\theta$のみで，↑の例だと$\\theta=0.7$が正解．\n",
    "\n",
    "では，得られたデータから適切な$\\theta$を推定をしていこう．"
   ]
  },
  {
   "cell_type": "markdown",
   "metadata": {},
   "source": [
    "まず潜在変数を考える．今回の例だと，潜在変数として「どちらの分布から得られたか」を表す変数が仮定できそう．そしてこの潜在変数はパラメータ$\\theta$のベルヌーイ分布に従いそう．  \n",
    "ということで，これらの仮定を元に進めていく．（↑の式やコードを見ると，これらの仮定が全て正しいことが確認できる．）\n",
    "\n"
   ]
  },
  {
   "cell_type": "markdown",
   "metadata": {},
   "source": [
    "$$\n",
    "\n",
    "$$"
   ]
  },
  {
   "attachments": {},
   "cell_type": "markdown",
   "metadata": {},
   "source": [
    "### 一般的な混合ガウス分布\n",
    "\n",
    "こんな分布を考える"
   ]
  },
  {
   "cell_type": "code",
   "execution_count": null,
   "metadata": {},
   "outputs": [
    {
     "data": {
      "image/png": "[encoded data removed]",
      "text/plain": [
       "<Figure size 640x480 with 1 Axes>"
      ]
     },
     "metadata": {},
     "output_type": "display_data"
    }
   ],
   "source": [
    "pi = [0.2, 0.3, 0.5]\n",
    "mu = [-5., 0., 9.]\n",
    "sigma = [1., 2., 2.]\n",
    "\n",
    "norm = [dist.Normal(m, s) for m, s in zip(mu, sigma)]\n",
    "\n",
    "ax = torch.arange(-10, 16, 0.1)\n",
    "y = torch.stack([p * n.log_prob(ax).exp() for n, p in zip(norm, pi)])\n",
    "for i in range(1, 3):\n",
    "    y[i] += y[i-1]\n",
    "plt.plot(ax, y.T.flip(-1));"
   ]
  },
  {
   "cell_type": "markdown",
   "metadata": {},
   "source": [
    "これが3つのガウス分布を足して作られた真の分布"
   ]
  }
 ],
 "metadata": {
  "kernelspec": {
   "display_name": "dl",
   "language": "python",
   "name": "python3"
  },
  "language_info": {
   "name": "python",
   "version": "3.11.2"
  },
  "orig_nbformat": 4
 },
 "nbformat": 4,
 "nbformat_minor": 2
}
